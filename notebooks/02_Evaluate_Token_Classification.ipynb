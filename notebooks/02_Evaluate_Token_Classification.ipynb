{
 "cells": [
  {
   "cell_type": "code",
   "execution_count": null,
   "metadata": {
    "id": "Hfva8Zz0yYo-"
   },
   "outputs": [],
   "source": [
    "!pip install datasets\n",
    "!pip install transformers==4.28.0\n",
    "!pip install spacy\n",
    "!python -m spacy download de_core_news_lg"
   ]
  },
  {
   "cell_type": "code",
   "execution_count": 2,
   "metadata": {
    "id": "pHdJ9ahNyewD"
   },
   "outputs": [],
   "source": [
    "from transformers import pipeline, AutoTokenizer, AutoModelForTokenClassification\n",
    "from datasets import Dataset, DatasetDict\n",
    "\n",
    "import torch\n",
    "\n",
    "from sklearn import metrics as sk_metrics\n",
    "\n",
    "import numpy as np\n",
    "import pandas as pd\n",
    "import re\n",
    "from ast import literal_eval\n",
    "from collections import Counter\n",
    "\n",
    "from IPython.display import display, Markdown\n",
    "from tqdm import tqdm\n",
    "\n",
    "import spacy\n",
    "from spacy.matcher import PhraseMatcher\n",
    "tqdm.pandas()"
   ]
  },
  {
   "cell_type": "code",
   "execution_count": 3,
   "metadata": {
    "colab": {
     "base_uri": "https://localhost:8080/",
     "height": 256
    },
    "id": "ReldikM4wrqH",
    "outputId": "11c22fed-2549-400f-c04f-9bd6d034b6d7"
   },
   "outputs": [
    {
     "name": "stdout",
     "output_type": "stream",
     "text": [
      "163\n"
     ]
    },
    {
     "data": {
      "text/html": [
       "<div>\n",
       "<style scoped>\n",
       "    .dataframe tbody tr th:only-of-type {\n",
       "        vertical-align: middle;\n",
       "    }\n",
       "\n",
       "    .dataframe tbody tr th {\n",
       "        vertical-align: top;\n",
       "    }\n",
       "\n",
       "    .dataframe thead th {\n",
       "        text-align: right;\n",
       "    }\n",
       "</style>\n",
       "<table border=\"1\" class=\"dataframe\">\n",
       "  <thead>\n",
       "    <tr style=\"text-align: right;\">\n",
       "      <th></th>\n",
       "      <th>tokens</th>\n",
       "      <th>annotations</th>\n",
       "    </tr>\n",
       "    <tr>\n",
       "      <th>id</th>\n",
       "      <th></th>\n",
       "      <th></th>\n",
       "    </tr>\n",
       "  </thead>\n",
       "  <tbody>\n",
       "    <tr>\n",
       "      <th>0</th>\n",
       "      <td>[Für, uns, sind, die, Alten-, und, Krankenpfle...</td>\n",
       "      <td>[0, 0, 0, 0, 1, 1, 1, 0, 0, 1, 0, 0, 0, 1, 1, ...</td>\n",
       "    </tr>\n",
       "    <tr>\n",
       "      <th>5</th>\n",
       "      <td>[Die, Interessen, eines, Arztes, sind, nicht, ...</td>\n",
       "      <td>[0, 0, 0, 1, 0, 0, 0, 0, 0, 0, 0, 0, 0, 0]</td>\n",
       "    </tr>\n",
       "    <tr>\n",
       "      <th>7</th>\n",
       "      <td>[Nicht, nur, für, die, betroffenen, Frauen, mü...</td>\n",
       "      <td>[0, 0, 0, 0, 0, 0, 0, 0, 0, 0, 0, 0, 0, 0, 0, ...</td>\n",
       "    </tr>\n",
       "    <tr>\n",
       "      <th>9</th>\n",
       "      <td>[Dass, ein, Krankenpfleger, oder, eine, Kranke...</td>\n",
       "      <td>[0, 0, 1, 0, 0, 1, 0, 0, 0, 0, 0, 0, 0, 0, 0, ...</td>\n",
       "    </tr>\n",
       "    <tr>\n",
       "      <th>10</th>\n",
       "      <td>[Viele, Pflegerinnen, und, Pfleger, in, unsere...</td>\n",
       "      <td>[0, 1, 0, 1, 0, 0, 0, 0, 0, 0, 0, 0, 0, 0, 0, ...</td>\n",
       "    </tr>\n",
       "  </tbody>\n",
       "</table>\n",
       "</div>"
      ],
      "text/plain": [
       "                                               tokens  \\\n",
       "id                                                      \n",
       "0   [Für, uns, sind, die, Alten-, und, Krankenpfle...   \n",
       "5   [Die, Interessen, eines, Arztes, sind, nicht, ...   \n",
       "7   [Nicht, nur, für, die, betroffenen, Frauen, mü...   \n",
       "9   [Dass, ein, Krankenpfleger, oder, eine, Kranke...   \n",
       "10  [Viele, Pflegerinnen, und, Pfleger, in, unsere...   \n",
       "\n",
       "                                          annotations  \n",
       "id                                                     \n",
       "0   [0, 0, 0, 0, 1, 1, 1, 0, 0, 1, 0, 0, 0, 1, 1, ...  \n",
       "5          [0, 0, 0, 1, 0, 0, 0, 0, 0, 0, 0, 0, 0, 0]  \n",
       "7   [0, 0, 0, 0, 0, 0, 0, 0, 0, 0, 0, 0, 0, 0, 0, ...  \n",
       "9   [0, 0, 1, 0, 0, 1, 0, 0, 0, 0, 0, 0, 0, 0, 0, ...  \n",
       "10  [0, 1, 0, 1, 0, 0, 0, 0, 0, 0, 0, 0, 0, 0, 0, ...  "
      ]
     },
     "execution_count": 3,
     "metadata": {},
     "output_type": "execute_result"
    }
   ],
   "source": [
    "id2label = {0: 'O', 1: 'PROF'}\n",
    "label2id = {'O': 0, 'B-PROF': 1, 'I-PROF': 1}\n",
    "\n",
    "validation_df = pd.read_csv('../data/test.csv',\n",
    "                           encoding='utf-8', sep='\\t', index_col=0)\n",
    "validation_df.rename_axis('id', axis='index', inplace=True)\n",
    "\n",
    "validation_df['tokens'] = validation_df['tokens'].apply(lambda x: literal_eval(x))\n",
    "validation_df['annotations'] = validation_df['annotations'].apply(lambda x: literal_eval(x))\n",
    "validation_df['annotations'] = validation_df['annotations'].apply(lambda x: [label2id[l] for l in x])\n",
    "\n",
    "print(len(validation_df))\n",
    "validation_df.head()"
   ]
  },
  {
   "cell_type": "markdown",
   "metadata": {},
   "source": [
    "# Initialize BERT model"
   ]
  },
  {
   "cell_type": "code",
   "execution_count": 5,
   "metadata": {
    "id": "LjQ7zancvqX_"
   },
   "outputs": [],
   "source": [
    "model_checkpoint = 'johannabi/german_tc_professions_debates'\n",
    "token_classifier = pipeline(\"token-classification\", model=model_checkpoint, aggregation_strategy=\"simple\")\n",
    "\n",
    "tokenizer = AutoTokenizer.from_pretrained(model_checkpoint)\n",
    "model = AutoModelForTokenClassification.from_pretrained(model_checkpoint)"
   ]
  },
  {
   "cell_type": "markdown",
   "metadata": {},
   "source": [
    "# Initialize PhraseMatchers\n",
    "You have to download the dictionary first: https://download-portal.arbeitsagentur.de/files/ (File name: DKZ_Suchworte_Systematik_und_Berufe_gueltig.xml)"
   ]
  },
  {
   "cell_type": "code",
   "execution_count": null,
   "metadata": {
    "id": "7ObC3W32DDgp"
   },
   "outputs": [],
   "source": [
    "nlp = spacy.load('de_core_news_lg', disable=['ner'])\n",
    "\n",
    "dkz_path = '../data/DKZ_Suchworte_Systematik_und_Berufe_gueltig.xml'\n",
    "dkz_df = pd.read_xml(dkz_path)\n",
    "\n",
    "all_berufe_list = list(dkz_df['name'].unique())\n",
    "matcher_all = PhraseMatcher(nlp.vocab, attr='LEMMA')\n",
    "occ_nlp_all = list(nlp.pipe(all_berufe_list))\n",
    "\n",
    "for occ, occ_proc in zip(all_berufe_list, occ_nlp_all):\n",
    "    matcher_all.add(occ, [occ_proc])\n",
    "\n",
    "\n",
    "dkz_mw_df = dkz_df[dkz_df.suchwortGruppe.isin(['m', 'w'])].copy()\n",
    "berufe_list = list(dkz_mw_df['name'].unique())\n",
    "matcher_mw = PhraseMatcher(nlp.vocab, attr='LEMMA')\n",
    "occ_nlp_mw = list(nlp.pipe(berufe_list))\n",
    "\n",
    "for occ, occ_proc in zip(berufe_list, occ_nlp_mw):\n",
    "    matcher_mw.add(occ, [occ_proc])\n",
    "\n",
    "matcher_token_mw = PhraseMatcher(nlp.vocab, attr='ORTH')\n",
    "for occ, occ_proc in zip(berufe_list, occ_nlp_mw):\n",
    "    matcher_token_mw.add(occ, [occ_proc])"
   ]
  },
  {
   "cell_type": "code",
   "execution_count": 9,
   "metadata": {
    "colab": {
     "base_uri": "https://localhost:8080/"
    },
    "id": "jDmKWhMfENoX",
    "outputId": "c22cae49-2da1-450d-e584-5011e60fafed"
   },
   "outputs": [
    {
     "name": "stdout",
     "output_type": "stream",
     "text": [
      "183205\n",
      "107020\n"
     ]
    }
   ],
   "source": [
    "print(len(all_berufe_list))\n",
    "print(len(berufe_list))"
   ]
  },
  {
   "cell_type": "markdown",
   "metadata": {},
   "source": [
    "# Use BERT model with different aggregation strategies"
   ]
  },
  {
   "cell_type": "code",
   "execution_count": 56,
   "metadata": {
    "colab": {
     "base_uri": "https://localhost:8080/"
    },
    "id": "E3aZm8BavvAi",
    "outputId": "2e03679a-4358-4c61-843c-29ef6b3398d7"
   },
   "outputs": [
    {
     "name": "stderr",
     "output_type": "stream",
     "text": [
      "100%|██████████| 163/163 [00:48<00:00,  3.33it/s]\n"
     ]
    }
   ],
   "source": [
    "def predict_to_list(tokens, aggregation_strategy):\n",
    "    string = ' '.join(tokens)    \n",
    "    predictions = token_classifier(string, aggregation_strategy=aggregation_strategy)\n",
    "    if len(predictions) == 0:\n",
    "        return [0 for t in tokens]\n",
    "    # idenfity start and end char of tokens\n",
    "    start_end_list = list()\n",
    "    pointer = 0\n",
    "    for t in tokens:\n",
    "        start_end_list.append((t, pointer, pointer+len(t)))\n",
    "        pointer+=len(t)+1\n",
    "    se_df = pd.DataFrame(start_end_list, columns=['token', 'start', 'end'])\n",
    "    \n",
    "    # align predictions with tokens\n",
    "    annotations = [0] * len(tokens)\n",
    "    for pred in predictions:\n",
    "        #print(pred)\n",
    "        try:\n",
    "            #greedy annotation\n",
    "            start_token = max(se_df[se_df.start <= pred['start']].index) # nearst possible under boundary\n",
    "            end_token = min(se_df[se_df.end >= pred['end']].index) # nearst possible upper boundary\n",
    "\n",
    "            for idx in range(start_token, end_token+1):\n",
    "                annotations[idx] = 1\n",
    "        except IndexError:\n",
    "            print(pred, '\\n', tokens)\n",
    "    return annotations\n",
    "\n",
    "validation_df['pred_bert_simple'] = validation_df['tokens'].progress_apply(lambda x: predict_to_list(x, aggregation_strategy='simple'))\n",
    "validation_df['pred_bert_first'] = validation_df['tokens'].progress_apply(lambda x: predict_to_list(x, aggregation_strategy='first'))\n",
    "validation_df['pred_bert_average'] = validation_df['tokens'].progress_apply(lambda x: predict_to_list(x, aggregation_strategy='average'))\n",
    "validation_df['pred_bert_max'] = validation_df['tokens'].progress_apply(lambda x: predict_to_list(x, aggregation_strategy='max'))"
   ]
  },
  {
   "cell_type": "markdown",
   "metadata": {},
   "source": [
    "# Use PhraseMatcher with different dictionaries and on OrthForm or Lemma level"
   ]
  },
  {
   "cell_type": "code",
   "execution_count": 30,
   "metadata": {
    "colab": {
     "base_uri": "https://localhost:8080/",
     "height": 442
    },
    "id": "yNgKjHf7Bhda",
    "outputId": "fc9480d6-21db-412e-c142-e1d763aff7a2"
   },
   "outputs": [
    {
     "name": "stderr",
     "output_type": "stream",
     "text": [
      "100%|██████████| 163/163 [00:01<00:00, 115.77it/s]\n",
      "100%|██████████| 163/163 [00:00<00:00, 52168.76it/s]\n",
      "100%|██████████| 163/163 [00:00<00:00, 55438.82it/s]\n",
      "100%|██████████| 163/163 [00:00<00:00, 48872.08it/s]\n"
     ]
    },
    {
     "data": {
      "text/html": [
       "\n",
       "  <div id=\"df-3c7aae5c-7593-407a-ab44-93283ef9c895\">\n",
       "    <div class=\"colab-df-container\">\n",
       "      <div>\n",
       "<style scoped>\n",
       "    .dataframe tbody tr th:only-of-type {\n",
       "        vertical-align: middle;\n",
       "    }\n",
       "\n",
       "    .dataframe tbody tr th {\n",
       "        vertical-align: top;\n",
       "    }\n",
       "\n",
       "    .dataframe thead th {\n",
       "        text-align: right;\n",
       "    }\n",
       "</style>\n",
       "<table border=\"1\" class=\"dataframe\">\n",
       "  <thead>\n",
       "    <tr style=\"text-align: right;\">\n",
       "      <th></th>\n",
       "      <th>tokens</th>\n",
       "      <th>annotations</th>\n",
       "      <th>pred_bert_simple</th>\n",
       "      <th>pred_bert_first</th>\n",
       "      <th>pred_bert_average</th>\n",
       "      <th>spacydoc</th>\n",
       "      <th>pred_matcher_mw</th>\n",
       "      <th>pred_matcher_mw_t</th>\n",
       "      <th>pred_matcher_all</th>\n",
       "    </tr>\n",
       "    <tr>\n",
       "      <th>id</th>\n",
       "      <th></th>\n",
       "      <th></th>\n",
       "      <th></th>\n",
       "      <th></th>\n",
       "      <th></th>\n",
       "      <th></th>\n",
       "      <th></th>\n",
       "      <th></th>\n",
       "      <th></th>\n",
       "    </tr>\n",
       "  </thead>\n",
       "  <tbody>\n",
       "    <tr>\n",
       "      <th>0</th>\n",
       "      <td>[Für, uns, sind, die, Alten-, und, Krankenpfle...</td>\n",
       "      <td>[0, 0, 0, 0, 1, 1, 1, 0, 0, 1, 0, 0, 0, 1, 1, ...</td>\n",
       "      <td>[0, 0, 0, 0, 1, 0, 1, 0, 0, 1, 0, 0, 0, 0, 0, ...</td>\n",
       "      <td>[0, 0, 0, 0, 1, 0, 1, 0, 0, 1, 0, 0, 0, 0, 0, ...</td>\n",
       "      <td>[0, 0, 0, 0, 1, 0, 1, 0, 0, 1, 0, 0, 0, 0, 0, ...</td>\n",
       "      <td>(Für, uns, sind, die, Alten-, und, Krankenpfle...</td>\n",
       "      <td>[0, 0, 0, 0, 0, 0, 1, 0, 0, 0, 0, 0, 0, 0, 0, ...</td>\n",
       "      <td>[0, 0, 0, 0, 0, 0, 0, 0, 0, 0, 0, 0, 0, 0, 0, ...</td>\n",
       "      <td>[0, 0, 0, 0, 0, 0, 1, 1, 0, 0, 1, 0, 0, 0, 0, ...</td>\n",
       "    </tr>\n",
       "    <tr>\n",
       "      <th>5</th>\n",
       "      <td>[Die, Interessen, eines, Arztes, sind, nicht, ...</td>\n",
       "      <td>[0, 0, 0, 1, 0, 0, 0, 0, 0, 0, 0, 0, 0, 0]</td>\n",
       "      <td>[0, 0, 0, 1, 0, 0, 0, 0, 0, 0, 0, 0, 0, 0]</td>\n",
       "      <td>[0, 0, 0, 1, 0, 0, 0, 0, 0, 0, 0, 0, 0, 0]</td>\n",
       "      <td>[0, 0, 0, 1, 0, 0, 0, 0, 0, 0, 0, 0, 0, 0]</td>\n",
       "      <td>(Die, Interessen, eines, Arztes, sind, nicht, ...</td>\n",
       "      <td>[0, 0, 0, 1, 0, 0, 0, 0, 0, 0, 0, 0, 0, 0]</td>\n",
       "      <td>[0, 0, 0, 0, 0, 0, 0, 0, 0, 0, 0, 0, 0, 0]</td>\n",
       "      <td>[0, 0, 0, 1, 0, 0, 0, 0, 0, 0, 0, 0, 1, 1]</td>\n",
       "    </tr>\n",
       "    <tr>\n",
       "      <th>7</th>\n",
       "      <td>[Nicht, nur, für, die, betroffenen, Frauen, mü...</td>\n",
       "      <td>[0, 0, 0, 0, 0, 0, 0, 0, 0, 0, 0, 0, 0, 0, 0, ...</td>\n",
       "      <td>[0, 0, 0, 0, 0, 0, 0, 0, 0, 0, 0, 0, 0, 0, 0, ...</td>\n",
       "      <td>[0, 0, 0, 0, 0, 0, 0, 0, 0, 0, 0, 0, 0, 0, 0, ...</td>\n",
       "      <td>[0, 0, 0, 0, 0, 0, 0, 0, 0, 0, 0, 0, 0, 0, 0, ...</td>\n",
       "      <td>(Nicht, nur, für, die, betroffenen, Frauen, mü...</td>\n",
       "      <td>[0, 0, 0, 0, 0, 0, 0, 0, 0, 0, 0, 0, 0, 0, 0, ...</td>\n",
       "      <td>[0, 0, 0, 0, 0, 0, 0, 0, 0, 0, 0, 0, 0, 0, 0, ...</td>\n",
       "      <td>[0, 0, 0, 0, 0, 0, 0, 0, 0, 0, 1, 0, 0, 0, 0, ...</td>\n",
       "    </tr>\n",
       "    <tr>\n",
       "      <th>9</th>\n",
       "      <td>[Dass, ein, Krankenpfleger, oder, eine, Kranke...</td>\n",
       "      <td>[0, 0, 1, 0, 0, 1, 0, 0, 0, 0, 0, 0, 0, 0, 0, ...</td>\n",
       "      <td>[0, 0, 1, 0, 0, 1, 0, 0, 0, 0, 0, 0, 0, 0, 0, ...</td>\n",
       "      <td>[0, 0, 1, 0, 0, 1, 0, 0, 0, 0, 0, 0, 0, 0, 0, ...</td>\n",
       "      <td>[0, 0, 1, 0, 0, 1, 0, 0, 0, 0, 0, 0, 0, 0, 0, ...</td>\n",
       "      <td>(Dass, ein, Krankenpfleger, oder, eine, Kranke...</td>\n",
       "      <td>[0, 0, 1, 0, 0, 1, 0, 0, 0, 0, 0, 0, 0, 0, 0, ...</td>\n",
       "      <td>[0, 0, 1, 0, 0, 1, 0, 0, 0, 0, 0, 0, 0, 0, 0, ...</td>\n",
       "      <td>[0, 0, 1, 0, 0, 1, 0, 0, 0, 0, 0, 0, 1, 1, 0, ...</td>\n",
       "    </tr>\n",
       "    <tr>\n",
       "      <th>10</th>\n",
       "      <td>[Viele, Pflegerinnen, und, Pfleger, in, unsere...</td>\n",
       "      <td>[0, 1, 0, 1, 0, 0, 0, 0, 0, 0, 0, 0, 0, 0, 0, ...</td>\n",
       "      <td>[0, 1, 0, 1, 0, 0, 0, 0, 0, 0, 0, 0, 0, 0, 0, ...</td>\n",
       "      <td>[0, 1, 0, 1, 0, 0, 0, 0, 0, 0, 0, 0, 0, 0, 0, ...</td>\n",
       "      <td>[0, 1, 0, 1, 0, 0, 0, 0, 0, 0, 0, 0, 0, 0, 0, ...</td>\n",
       "      <td>(Viele, Pflegerinnen, und, Pfleger, in, unsere...</td>\n",
       "      <td>[0, 1, 0, 1, 0, 0, 0, 0, 0, 0, 0, 0, 0, 0, 0, ...</td>\n",
       "      <td>[0, 0, 0, 1, 0, 0, 0, 0, 0, 0, 0, 0, 0, 0, 0, ...</td>\n",
       "      <td>[0, 1, 0, 1, 0, 0, 0, 0, 0, 0, 1, 0, 0, 0, 1, ...</td>\n",
       "    </tr>\n",
       "  </tbody>\n",
       "</table>\n",
       "</div>\n",
       "      <button class=\"colab-df-convert\" onclick=\"convertToInteractive('df-3c7aae5c-7593-407a-ab44-93283ef9c895')\"\n",
       "              title=\"Convert this dataframe to an interactive table.\"\n",
       "              style=\"display:none;\">\n",
       "        \n",
       "  <svg xmlns=\"http://www.w3.org/2000/svg\" height=\"24px\"viewBox=\"0 0 24 24\"\n",
       "       width=\"24px\">\n",
       "    <path d=\"M0 0h24v24H0V0z\" fill=\"none\"/>\n",
       "    <path d=\"M18.56 5.44l.94 2.06.94-2.06 2.06-.94-2.06-.94-.94-2.06-.94 2.06-2.06.94zm-11 1L8.5 8.5l.94-2.06 2.06-.94-2.06-.94L8.5 2.5l-.94 2.06-2.06.94zm10 10l.94 2.06.94-2.06 2.06-.94-2.06-.94-.94-2.06-.94 2.06-2.06.94z\"/><path d=\"M17.41 7.96l-1.37-1.37c-.4-.4-.92-.59-1.43-.59-.52 0-1.04.2-1.43.59L10.3 9.45l-7.72 7.72c-.78.78-.78 2.05 0 2.83L4 21.41c.39.39.9.59 1.41.59.51 0 1.02-.2 1.41-.59l7.78-7.78 2.81-2.81c.8-.78.8-2.07 0-2.86zM5.41 20L4 18.59l7.72-7.72 1.47 1.35L5.41 20z\"/>\n",
       "  </svg>\n",
       "      </button>\n",
       "      \n",
       "  <style>\n",
       "    .colab-df-container {\n",
       "      display:flex;\n",
       "      flex-wrap:wrap;\n",
       "      gap: 12px;\n",
       "    }\n",
       "\n",
       "    .colab-df-convert {\n",
       "      background-color: #E8F0FE;\n",
       "      border: none;\n",
       "      border-radius: 50%;\n",
       "      cursor: pointer;\n",
       "      display: none;\n",
       "      fill: #1967D2;\n",
       "      height: 32px;\n",
       "      padding: 0 0 0 0;\n",
       "      width: 32px;\n",
       "    }\n",
       "\n",
       "    .colab-df-convert:hover {\n",
       "      background-color: #E2EBFA;\n",
       "      box-shadow: 0px 1px 2px rgba(60, 64, 67, 0.3), 0px 1px 3px 1px rgba(60, 64, 67, 0.15);\n",
       "      fill: #174EA6;\n",
       "    }\n",
       "\n",
       "    [theme=dark] .colab-df-convert {\n",
       "      background-color: #3B4455;\n",
       "      fill: #D2E3FC;\n",
       "    }\n",
       "\n",
       "    [theme=dark] .colab-df-convert:hover {\n",
       "      background-color: #434B5C;\n",
       "      box-shadow: 0px 1px 3px 1px rgba(0, 0, 0, 0.15);\n",
       "      filter: drop-shadow(0px 1px 2px rgba(0, 0, 0, 0.3));\n",
       "      fill: #FFFFFF;\n",
       "    }\n",
       "  </style>\n",
       "\n",
       "      <script>\n",
       "        const buttonEl =\n",
       "          document.querySelector('#df-3c7aae5c-7593-407a-ab44-93283ef9c895 button.colab-df-convert');\n",
       "        buttonEl.style.display =\n",
       "          google.colab.kernel.accessAllowed ? 'block' : 'none';\n",
       "\n",
       "        async function convertToInteractive(key) {\n",
       "          const element = document.querySelector('#df-3c7aae5c-7593-407a-ab44-93283ef9c895');\n",
       "          const dataTable =\n",
       "            await google.colab.kernel.invokeFunction('convertToInteractive',\n",
       "                                                     [key], {});\n",
       "          if (!dataTable) return;\n",
       "\n",
       "          const docLinkHtml = 'Like what you see? Visit the ' +\n",
       "            '<a target=\"_blank\" href=https://colab.research.google.com/notebooks/data_table.ipynb>data table notebook</a>'\n",
       "            + ' to learn more about interactive tables.';\n",
       "          element.innerHTML = '';\n",
       "          dataTable['output_type'] = 'display_data';\n",
       "          await google.colab.output.renderOutput(dataTable, element);\n",
       "          const docLink = document.createElement('div');\n",
       "          docLink.innerHTML = docLinkHtml;\n",
       "          element.appendChild(docLink);\n",
       "        }\n",
       "      </script>\n",
       "    </div>\n",
       "  </div>\n",
       "  "
      ],
      "text/plain": [
       "                                               tokens  \\\n",
       "id                                                      \n",
       "0   [Für, uns, sind, die, Alten-, und, Krankenpfle...   \n",
       "5   [Die, Interessen, eines, Arztes, sind, nicht, ...   \n",
       "7   [Nicht, nur, für, die, betroffenen, Frauen, mü...   \n",
       "9   [Dass, ein, Krankenpfleger, oder, eine, Kranke...   \n",
       "10  [Viele, Pflegerinnen, und, Pfleger, in, unsere...   \n",
       "\n",
       "                                          annotations  \\\n",
       "id                                                      \n",
       "0   [0, 0, 0, 0, 1, 1, 1, 0, 0, 1, 0, 0, 0, 1, 1, ...   \n",
       "5          [0, 0, 0, 1, 0, 0, 0, 0, 0, 0, 0, 0, 0, 0]   \n",
       "7   [0, 0, 0, 0, 0, 0, 0, 0, 0, 0, 0, 0, 0, 0, 0, ...   \n",
       "9   [0, 0, 1, 0, 0, 1, 0, 0, 0, 0, 0, 0, 0, 0, 0, ...   \n",
       "10  [0, 1, 0, 1, 0, 0, 0, 0, 0, 0, 0, 0, 0, 0, 0, ...   \n",
       "\n",
       "                                     pred_bert_simple  \\\n",
       "id                                                      \n",
       "0   [0, 0, 0, 0, 1, 0, 1, 0, 0, 1, 0, 0, 0, 0, 0, ...   \n",
       "5          [0, 0, 0, 1, 0, 0, 0, 0, 0, 0, 0, 0, 0, 0]   \n",
       "7   [0, 0, 0, 0, 0, 0, 0, 0, 0, 0, 0, 0, 0, 0, 0, ...   \n",
       "9   [0, 0, 1, 0, 0, 1, 0, 0, 0, 0, 0, 0, 0, 0, 0, ...   \n",
       "10  [0, 1, 0, 1, 0, 0, 0, 0, 0, 0, 0, 0, 0, 0, 0, ...   \n",
       "\n",
       "                                      pred_bert_first  \\\n",
       "id                                                      \n",
       "0   [0, 0, 0, 0, 1, 0, 1, 0, 0, 1, 0, 0, 0, 0, 0, ...   \n",
       "5          [0, 0, 0, 1, 0, 0, 0, 0, 0, 0, 0, 0, 0, 0]   \n",
       "7   [0, 0, 0, 0, 0, 0, 0, 0, 0, 0, 0, 0, 0, 0, 0, ...   \n",
       "9   [0, 0, 1, 0, 0, 1, 0, 0, 0, 0, 0, 0, 0, 0, 0, ...   \n",
       "10  [0, 1, 0, 1, 0, 0, 0, 0, 0, 0, 0, 0, 0, 0, 0, ...   \n",
       "\n",
       "                                    pred_bert_average  \\\n",
       "id                                                      \n",
       "0   [0, 0, 0, 0, 1, 0, 1, 0, 0, 1, 0, 0, 0, 0, 0, ...   \n",
       "5          [0, 0, 0, 1, 0, 0, 0, 0, 0, 0, 0, 0, 0, 0]   \n",
       "7   [0, 0, 0, 0, 0, 0, 0, 0, 0, 0, 0, 0, 0, 0, 0, ...   \n",
       "9   [0, 0, 1, 0, 0, 1, 0, 0, 0, 0, 0, 0, 0, 0, 0, ...   \n",
       "10  [0, 1, 0, 1, 0, 0, 0, 0, 0, 0, 0, 0, 0, 0, 0, ...   \n",
       "\n",
       "                                             spacydoc  \\\n",
       "id                                                      \n",
       "0   (Für, uns, sind, die, Alten-, und, Krankenpfle...   \n",
       "5   (Die, Interessen, eines, Arztes, sind, nicht, ...   \n",
       "7   (Nicht, nur, für, die, betroffenen, Frauen, mü...   \n",
       "9   (Dass, ein, Krankenpfleger, oder, eine, Kranke...   \n",
       "10  (Viele, Pflegerinnen, und, Pfleger, in, unsere...   \n",
       "\n",
       "                                      pred_matcher_mw  \\\n",
       "id                                                      \n",
       "0   [0, 0, 0, 0, 0, 0, 1, 0, 0, 0, 0, 0, 0, 0, 0, ...   \n",
       "5          [0, 0, 0, 1, 0, 0, 0, 0, 0, 0, 0, 0, 0, 0]   \n",
       "7   [0, 0, 0, 0, 0, 0, 0, 0, 0, 0, 0, 0, 0, 0, 0, ...   \n",
       "9   [0, 0, 1, 0, 0, 1, 0, 0, 0, 0, 0, 0, 0, 0, 0, ...   \n",
       "10  [0, 1, 0, 1, 0, 0, 0, 0, 0, 0, 0, 0, 0, 0, 0, ...   \n",
       "\n",
       "                                    pred_matcher_mw_t  \\\n",
       "id                                                      \n",
       "0   [0, 0, 0, 0, 0, 0, 0, 0, 0, 0, 0, 0, 0, 0, 0, ...   \n",
       "5          [0, 0, 0, 0, 0, 0, 0, 0, 0, 0, 0, 0, 0, 0]   \n",
       "7   [0, 0, 0, 0, 0, 0, 0, 0, 0, 0, 0, 0, 0, 0, 0, ...   \n",
       "9   [0, 0, 1, 0, 0, 1, 0, 0, 0, 0, 0, 0, 0, 0, 0, ...   \n",
       "10  [0, 0, 0, 1, 0, 0, 0, 0, 0, 0, 0, 0, 0, 0, 0, ...   \n",
       "\n",
       "                                     pred_matcher_all  \n",
       "id                                                     \n",
       "0   [0, 0, 0, 0, 0, 0, 1, 1, 0, 0, 1, 0, 0, 0, 0, ...  \n",
       "5          [0, 0, 0, 1, 0, 0, 0, 0, 0, 0, 0, 0, 1, 1]  \n",
       "7   [0, 0, 0, 0, 0, 0, 0, 0, 0, 0, 1, 0, 0, 0, 0, ...  \n",
       "9   [0, 0, 1, 0, 0, 1, 0, 0, 0, 0, 0, 0, 1, 1, 0, ...  \n",
       "10  [0, 1, 0, 1, 0, 0, 0, 0, 0, 0, 1, 0, 0, 0, 1, ...  "
      ]
     },
     "execution_count": 30,
     "metadata": {},
     "output_type": "execute_result"
    }
   ],
   "source": [
    "def phrasematch_to_list(doc, matcher):\n",
    "    matches = matcher(doc) \n",
    "    annotations = [0] * len(doc)\n",
    "    \n",
    "    for match_id, start, end in matches:\n",
    "        for i in range(start, end):\n",
    "            annotations[i] = 1\n",
    "    return annotations\n",
    "\n",
    "validation_df['spacydoc'] = validation_df['tokens'].progress_apply(lambda x: nlp(' '.join(x)))\n",
    "validation_df['pred_matcher_mw'] = validation_df['spacydoc'].progress_apply(lambda x: phrasematch_to_list(x, matcher_mw))\n",
    "validation_df['pred_matcher_mw_t'] = validation_df['spacydoc'].progress_apply(lambda x: phrasematch_to_list(x, matcher_token_mw))\n",
    "validation_df['pred_matcher_all'] = validation_df['spacydoc'].progress_apply(lambda x: phrasematch_to_list(x, matcher_all))\n",
    "validation_df.head()"
   ]
  },
  {
   "cell_type": "markdown",
   "metadata": {},
   "source": [
    "# Evaluate all Experiments at Token Level"
   ]
  },
  {
   "cell_type": "code",
   "execution_count": 57,
   "metadata": {
    "id": "gBilRo2VP-dn"
   },
   "outputs": [],
   "source": [
    "exploded = validation_df.explode(['tokens', 'annotations', \n",
    "                                  'pred_matcher_mw', 'pred_matcher_mw_t','pred_matcher_all',\n",
    "                                  'pred_bert_simple', 'pred_bert_first', 'pred_bert_average', 'pred_bert_max'])"
   ]
  },
  {
   "cell_type": "code",
   "execution_count": 58,
   "metadata": {
    "colab": {
     "base_uri": "https://localhost:8080/",
     "height": 269
    },
    "id": "d3l19XwaWr2M",
    "outputId": "0a59ab4c-0d1e-4dfd-8cb0-ea41297ab4e4"
   },
   "outputs": [
    {
     "data": {
      "text/html": [
       "\n",
       "  <div id=\"df-0d72aa54-78eb-44cd-8ece-1ac017602b49\">\n",
       "    <div class=\"colab-df-container\">\n",
       "      <div>\n",
       "<style scoped>\n",
       "    .dataframe tbody tr th:only-of-type {\n",
       "        vertical-align: middle;\n",
       "    }\n",
       "\n",
       "    .dataframe tbody tr th {\n",
       "        vertical-align: top;\n",
       "    }\n",
       "\n",
       "    .dataframe thead th {\n",
       "        text-align: right;\n",
       "    }\n",
       "</style>\n",
       "<table border=\"1\" class=\"dataframe\">\n",
       "  <thead>\n",
       "    <tr style=\"text-align: right;\">\n",
       "      <th></th>\n",
       "      <th>precision</th>\n",
       "      <th>recall</th>\n",
       "      <th>f1-score</th>\n",
       "      <th>support</th>\n",
       "    </tr>\n",
       "  </thead>\n",
       "  <tbody>\n",
       "    <tr>\n",
       "      <th>pred_matcher_all</th>\n",
       "      <td>0.260644</td>\n",
       "      <td>0.784375</td>\n",
       "      <td>0.391270</td>\n",
       "      <td>320.0</td>\n",
       "    </tr>\n",
       "    <tr>\n",
       "      <th>pred_matcher_mw_t</th>\n",
       "      <td>0.925000</td>\n",
       "      <td>0.462500</td>\n",
       "      <td>0.616667</td>\n",
       "      <td>320.0</td>\n",
       "    </tr>\n",
       "    <tr>\n",
       "      <th>pred_matcher_mw</th>\n",
       "      <td>0.935361</td>\n",
       "      <td>0.768750</td>\n",
       "      <td>0.843911</td>\n",
       "      <td>320.0</td>\n",
       "    </tr>\n",
       "    <tr>\n",
       "      <th>pred_bert_simple</th>\n",
       "      <td>0.926174</td>\n",
       "      <td>0.862500</td>\n",
       "      <td>0.893204</td>\n",
       "      <td>320.0</td>\n",
       "    </tr>\n",
       "    <tr>\n",
       "      <th>pred_bert_first</th>\n",
       "      <td>0.932432</td>\n",
       "      <td>0.862500</td>\n",
       "      <td>0.896104</td>\n",
       "      <td>320.0</td>\n",
       "    </tr>\n",
       "    <tr>\n",
       "      <th>pred_bert_average</th>\n",
       "      <td>0.932432</td>\n",
       "      <td>0.862500</td>\n",
       "      <td>0.896104</td>\n",
       "      <td>320.0</td>\n",
       "    </tr>\n",
       "    <tr>\n",
       "      <th>pred_bert_max</th>\n",
       "      <td>0.935593</td>\n",
       "      <td>0.862500</td>\n",
       "      <td>0.897561</td>\n",
       "      <td>320.0</td>\n",
       "    </tr>\n",
       "  </tbody>\n",
       "</table>\n",
       "</div>\n",
       "      <button class=\"colab-df-convert\" onclick=\"convertToInteractive('df-0d72aa54-78eb-44cd-8ece-1ac017602b49')\"\n",
       "              title=\"Convert this dataframe to an interactive table.\"\n",
       "              style=\"display:none;\">\n",
       "        \n",
       "  <svg xmlns=\"http://www.w3.org/2000/svg\" height=\"24px\"viewBox=\"0 0 24 24\"\n",
       "       width=\"24px\">\n",
       "    <path d=\"M0 0h24v24H0V0z\" fill=\"none\"/>\n",
       "    <path d=\"M18.56 5.44l.94 2.06.94-2.06 2.06-.94-2.06-.94-.94-2.06-.94 2.06-2.06.94zm-11 1L8.5 8.5l.94-2.06 2.06-.94-2.06-.94L8.5 2.5l-.94 2.06-2.06.94zm10 10l.94 2.06.94-2.06 2.06-.94-2.06-.94-.94-2.06-.94 2.06-2.06.94z\"/><path d=\"M17.41 7.96l-1.37-1.37c-.4-.4-.92-.59-1.43-.59-.52 0-1.04.2-1.43.59L10.3 9.45l-7.72 7.72c-.78.78-.78 2.05 0 2.83L4 21.41c.39.39.9.59 1.41.59.51 0 1.02-.2 1.41-.59l7.78-7.78 2.81-2.81c.8-.78.8-2.07 0-2.86zM5.41 20L4 18.59l7.72-7.72 1.47 1.35L5.41 20z\"/>\n",
       "  </svg>\n",
       "      </button>\n",
       "      \n",
       "  <style>\n",
       "    .colab-df-container {\n",
       "      display:flex;\n",
       "      flex-wrap:wrap;\n",
       "      gap: 12px;\n",
       "    }\n",
       "\n",
       "    .colab-df-convert {\n",
       "      background-color: #E8F0FE;\n",
       "      border: none;\n",
       "      border-radius: 50%;\n",
       "      cursor: pointer;\n",
       "      display: none;\n",
       "      fill: #1967D2;\n",
       "      height: 32px;\n",
       "      padding: 0 0 0 0;\n",
       "      width: 32px;\n",
       "    }\n",
       "\n",
       "    .colab-df-convert:hover {\n",
       "      background-color: #E2EBFA;\n",
       "      box-shadow: 0px 1px 2px rgba(60, 64, 67, 0.3), 0px 1px 3px 1px rgba(60, 64, 67, 0.15);\n",
       "      fill: #174EA6;\n",
       "    }\n",
       "\n",
       "    [theme=dark] .colab-df-convert {\n",
       "      background-color: #3B4455;\n",
       "      fill: #D2E3FC;\n",
       "    }\n",
       "\n",
       "    [theme=dark] .colab-df-convert:hover {\n",
       "      background-color: #434B5C;\n",
       "      box-shadow: 0px 1px 3px 1px rgba(0, 0, 0, 0.15);\n",
       "      filter: drop-shadow(0px 1px 2px rgba(0, 0, 0, 0.3));\n",
       "      fill: #FFFFFF;\n",
       "    }\n",
       "  </style>\n",
       "\n",
       "      <script>\n",
       "        const buttonEl =\n",
       "          document.querySelector('#df-0d72aa54-78eb-44cd-8ece-1ac017602b49 button.colab-df-convert');\n",
       "        buttonEl.style.display =\n",
       "          google.colab.kernel.accessAllowed ? 'block' : 'none';\n",
       "\n",
       "        async function convertToInteractive(key) {\n",
       "          const element = document.querySelector('#df-0d72aa54-78eb-44cd-8ece-1ac017602b49');\n",
       "          const dataTable =\n",
       "            await google.colab.kernel.invokeFunction('convertToInteractive',\n",
       "                                                     [key], {});\n",
       "          if (!dataTable) return;\n",
       "\n",
       "          const docLinkHtml = 'Like what you see? Visit the ' +\n",
       "            '<a target=\"_blank\" href=https://colab.research.google.com/notebooks/data_table.ipynb>data table notebook</a>'\n",
       "            + ' to learn more about interactive tables.';\n",
       "          element.innerHTML = '';\n",
       "          dataTable['output_type'] = 'display_data';\n",
       "          await google.colab.output.renderOutput(dataTable, element);\n",
       "          const docLink = document.createElement('div');\n",
       "          docLink.innerHTML = docLinkHtml;\n",
       "          element.appendChild(docLink);\n",
       "        }\n",
       "      </script>\n",
       "    </div>\n",
       "  </div>\n",
       "  "
      ],
      "text/plain": [
       "                   precision    recall  f1-score  support\n",
       "pred_matcher_all    0.260644  0.784375  0.391270    320.0\n",
       "pred_matcher_mw_t   0.925000  0.462500  0.616667    320.0\n",
       "pred_matcher_mw     0.935361  0.768750  0.843911    320.0\n",
       "pred_bert_simple    0.926174  0.862500  0.893204    320.0\n",
       "pred_bert_first     0.932432  0.862500  0.896104    320.0\n",
       "pred_bert_average   0.932432  0.862500  0.896104    320.0\n",
       "pred_bert_max       0.935593  0.862500  0.897561    320.0"
      ]
     },
     "execution_count": 58,
     "metadata": {},
     "output_type": "execute_result"
    }
   ],
   "source": [
    "experiments = ['pred_matcher_mw', 'pred_matcher_mw_t','pred_matcher_all',\n",
    "               'pred_bert_simple', 'pred_bert_first', 'pred_bert_average', 'pred_bert_max']\n",
    "\n",
    "series_list = list()\n",
    "\n",
    "for e in experiments:\n",
    "    result = sk_metrics.classification_report(list(exploded.annotations), \n",
    "                              list(exploded[e]), labels=[0,1], output_dict=True)['1']\n",
    "    #result['name'] = e\n",
    "    s = pd.Series(result, name=e)\n",
    "    series_list.append(s)\n",
    "result_df = pd.DataFrame(series_list)\n",
    "result_df.sort_values('f1-score')"
   ]
  },
  {
   "cell_type": "markdown",
   "metadata": {},
   "source": [
    "# Qualitative Error Analysis"
   ]
  },
  {
   "cell_type": "code",
   "execution_count": 59,
   "metadata": {
    "colab": {
     "base_uri": "https://localhost:8080/",
     "height": 191
    },
    "id": "7vSE2M61bkLP",
    "outputId": "723e9d5f-8d38-4764-f002-6b78a43f2691"
   },
   "outputs": [
    {
     "data": {
      "text/html": [
       "\n",
       "  <div id=\"df-909be50e-e8bb-4751-af37-10a591f6f56c\">\n",
       "    <div class=\"colab-df-container\">\n",
       "      <div>\n",
       "<style scoped>\n",
       "    .dataframe tbody tr th:only-of-type {\n",
       "        vertical-align: middle;\n",
       "    }\n",
       "\n",
       "    .dataframe tbody tr th {\n",
       "        vertical-align: top;\n",
       "    }\n",
       "\n",
       "    .dataframe thead th {\n",
       "        text-align: right;\n",
       "    }\n",
       "</style>\n",
       "<table border=\"1\" class=\"dataframe\">\n",
       "  <thead>\n",
       "    <tr style=\"text-align: right;\">\n",
       "      <th></th>\n",
       "      <th>tokens</th>\n",
       "      <th>annotations</th>\n",
       "      <th>pred_bert_simple</th>\n",
       "      <th>pred_bert_first</th>\n",
       "      <th>pred_bert_average</th>\n",
       "      <th>spacydoc</th>\n",
       "      <th>pred_matcher_mw</th>\n",
       "      <th>pred_matcher_mw_t</th>\n",
       "      <th>pred_matcher_all</th>\n",
       "      <th>pred_bert_max</th>\n",
       "    </tr>\n",
       "    <tr>\n",
       "      <th>id</th>\n",
       "      <th></th>\n",
       "      <th></th>\n",
       "      <th></th>\n",
       "      <th></th>\n",
       "      <th></th>\n",
       "      <th></th>\n",
       "      <th></th>\n",
       "      <th></th>\n",
       "      <th></th>\n",
       "      <th></th>\n",
       "    </tr>\n",
       "  </thead>\n",
       "  <tbody>\n",
       "    <tr>\n",
       "      <th>73</th>\n",
       "      <td>[Wir, beraten, heute, in, erster, Lesung,  , –...</td>\n",
       "      <td>[0, 0, 0, 0, 0, 0, 0, 0, 0, 0, 0, 0, 0, 0, 0, ...</td>\n",
       "      <td>[0, 0, 0, 0, 0, 0, 0, 0, 0, 0, 0, 0, 0, 0, 0, ...</td>\n",
       "      <td>[0, 0, 0, 0, 0, 0, 0, 0, 0, 0, 0, 0, 0, 0, 0, ...</td>\n",
       "      <td>[0, 0, 0, 0, 0, 0, 0, 0, 0, 0, 0, 0, 0, 0, 0, ...</td>\n",
       "      <td>(Wir, beraten, heute, in, erster, Lesung,   , ...</td>\n",
       "      <td>[0, 0, 0, 0, 0, 0, 0, 0, 0, 0, 0, 0, 0, 0, 0, ...</td>\n",
       "      <td>[0, 0, 0, 0, 0, 0, 0, 0, 0, 0, 0, 0, 0, 0, 0, ...</td>\n",
       "      <td>[0, 1, 0, 0, 0, 0, 0, 1, 0, 0, 0, 1, 0, 0, 1, ...</td>\n",
       "      <td>[0, 0, 0, 0, 0, 0, 0, 0, 0, 0, 0, 0, 0, 0, 0, ...</td>\n",
       "    </tr>\n",
       "  </tbody>\n",
       "</table>\n",
       "</div>\n",
       "      <button class=\"colab-df-convert\" onclick=\"convertToInteractive('df-909be50e-e8bb-4751-af37-10a591f6f56c')\"\n",
       "              title=\"Convert this dataframe to an interactive table.\"\n",
       "              style=\"display:none;\">\n",
       "        \n",
       "  <svg xmlns=\"http://www.w3.org/2000/svg\" height=\"24px\"viewBox=\"0 0 24 24\"\n",
       "       width=\"24px\">\n",
       "    <path d=\"M0 0h24v24H0V0z\" fill=\"none\"/>\n",
       "    <path d=\"M18.56 5.44l.94 2.06.94-2.06 2.06-.94-2.06-.94-.94-2.06-.94 2.06-2.06.94zm-11 1L8.5 8.5l.94-2.06 2.06-.94-2.06-.94L8.5 2.5l-.94 2.06-2.06.94zm10 10l.94 2.06.94-2.06 2.06-.94-2.06-.94-.94-2.06-.94 2.06-2.06.94z\"/><path d=\"M17.41 7.96l-1.37-1.37c-.4-.4-.92-.59-1.43-.59-.52 0-1.04.2-1.43.59L10.3 9.45l-7.72 7.72c-.78.78-.78 2.05 0 2.83L4 21.41c.39.39.9.59 1.41.59.51 0 1.02-.2 1.41-.59l7.78-7.78 2.81-2.81c.8-.78.8-2.07 0-2.86zM5.41 20L4 18.59l7.72-7.72 1.47 1.35L5.41 20z\"/>\n",
       "  </svg>\n",
       "      </button>\n",
       "      \n",
       "  <style>\n",
       "    .colab-df-container {\n",
       "      display:flex;\n",
       "      flex-wrap:wrap;\n",
       "      gap: 12px;\n",
       "    }\n",
       "\n",
       "    .colab-df-convert {\n",
       "      background-color: #E8F0FE;\n",
       "      border: none;\n",
       "      border-radius: 50%;\n",
       "      cursor: pointer;\n",
       "      display: none;\n",
       "      fill: #1967D2;\n",
       "      height: 32px;\n",
       "      padding: 0 0 0 0;\n",
       "      width: 32px;\n",
       "    }\n",
       "\n",
       "    .colab-df-convert:hover {\n",
       "      background-color: #E2EBFA;\n",
       "      box-shadow: 0px 1px 2px rgba(60, 64, 67, 0.3), 0px 1px 3px 1px rgba(60, 64, 67, 0.15);\n",
       "      fill: #174EA6;\n",
       "    }\n",
       "\n",
       "    [theme=dark] .colab-df-convert {\n",
       "      background-color: #3B4455;\n",
       "      fill: #D2E3FC;\n",
       "    }\n",
       "\n",
       "    [theme=dark] .colab-df-convert:hover {\n",
       "      background-color: #434B5C;\n",
       "      box-shadow: 0px 1px 3px 1px rgba(0, 0, 0, 0.15);\n",
       "      filter: drop-shadow(0px 1px 2px rgba(0, 0, 0, 0.3));\n",
       "      fill: #FFFFFF;\n",
       "    }\n",
       "  </style>\n",
       "\n",
       "      <script>\n",
       "        const buttonEl =\n",
       "          document.querySelector('#df-909be50e-e8bb-4751-af37-10a591f6f56c button.colab-df-convert');\n",
       "        buttonEl.style.display =\n",
       "          google.colab.kernel.accessAllowed ? 'block' : 'none';\n",
       "\n",
       "        async function convertToInteractive(key) {\n",
       "          const element = document.querySelector('#df-909be50e-e8bb-4751-af37-10a591f6f56c');\n",
       "          const dataTable =\n",
       "            await google.colab.kernel.invokeFunction('convertToInteractive',\n",
       "                                                     [key], {});\n",
       "          if (!dataTable) return;\n",
       "\n",
       "          const docLinkHtml = 'Like what you see? Visit the ' +\n",
       "            '<a target=\"_blank\" href=https://colab.research.google.com/notebooks/data_table.ipynb>data table notebook</a>'\n",
       "            + ' to learn more about interactive tables.';\n",
       "          element.innerHTML = '';\n",
       "          dataTable['output_type'] = 'display_data';\n",
       "          await google.colab.output.renderOutput(dataTable, element);\n",
       "          const docLink = document.createElement('div');\n",
       "          docLink.innerHTML = docLinkHtml;\n",
       "          element.appendChild(docLink);\n",
       "        }\n",
       "      </script>\n",
       "    </div>\n",
       "  </div>\n",
       "  "
      ],
      "text/plain": [
       "                                               tokens  \\\n",
       "id                                                      \n",
       "73  [Wir, beraten, heute, in, erster, Lesung,  , –...   \n",
       "\n",
       "                                          annotations  \\\n",
       "id                                                      \n",
       "73  [0, 0, 0, 0, 0, 0, 0, 0, 0, 0, 0, 0, 0, 0, 0, ...   \n",
       "\n",
       "                                     pred_bert_simple  \\\n",
       "id                                                      \n",
       "73  [0, 0, 0, 0, 0, 0, 0, 0, 0, 0, 0, 0, 0, 0, 0, ...   \n",
       "\n",
       "                                      pred_bert_first  \\\n",
       "id                                                      \n",
       "73  [0, 0, 0, 0, 0, 0, 0, 0, 0, 0, 0, 0, 0, 0, 0, ...   \n",
       "\n",
       "                                    pred_bert_average  \\\n",
       "id                                                      \n",
       "73  [0, 0, 0, 0, 0, 0, 0, 0, 0, 0, 0, 0, 0, 0, 0, ...   \n",
       "\n",
       "                                             spacydoc  \\\n",
       "id                                                      \n",
       "73  (Wir, beraten, heute, in, erster, Lesung,   , ...   \n",
       "\n",
       "                                      pred_matcher_mw  \\\n",
       "id                                                      \n",
       "73  [0, 0, 0, 0, 0, 0, 0, 0, 0, 0, 0, 0, 0, 0, 0, ...   \n",
       "\n",
       "                                    pred_matcher_mw_t  \\\n",
       "id                                                      \n",
       "73  [0, 0, 0, 0, 0, 0, 0, 0, 0, 0, 0, 0, 0, 0, 0, ...   \n",
       "\n",
       "                                     pred_matcher_all  \\\n",
       "id                                                      \n",
       "73  [0, 1, 0, 0, 0, 0, 0, 1, 0, 0, 0, 1, 0, 0, 1, ...   \n",
       "\n",
       "                                        pred_bert_max  \n",
       "id                                                     \n",
       "73  [0, 0, 0, 0, 0, 0, 0, 0, 0, 0, 0, 0, 0, 0, 0, ...  "
      ]
     },
     "execution_count": 59,
     "metadata": {},
     "output_type": "execute_result"
    }
   ],
   "source": [
    "validation_df[validation_df.pred_bert_max != validation_df.pred_bert_average]"
   ]
  },
  {
   "cell_type": "code",
   "execution_count": 62,
   "metadata": {
    "colab": {
     "base_uri": "https://localhost:8080/",
     "height": 1000
    },
    "id": "EczygXd8worE",
    "outputId": "1d6e7337-9ef1-4b36-9497-0795f97242b0"
   },
   "outputs": [
    {
     "name": "stdout",
     "output_type": "stream",
     "text": [
      "208\n"
     ]
    },
    {
     "data": {
      "text/markdown": [
       "B:Änderungsbedarf sieht er darin , dass im Rahmen der Aktualisierungspflicht dem Verbraucher ein Anspruch auf Updates nicht nur gegenüber dem Verkäufer , sondern zusätzlich auch gegenüber dem Hersteller zustehen soll und dass die zweijährige Verjährung von Ansprüchen im Zusammenhang mit Mängeln an digitalen Elementen nicht erst mit Ablauf des Aktualisierungszeitraumes zu laufen beginnen soll .  "
      ],
      "text/plain": [
       "<IPython.core.display.Markdown object>"
      ]
     },
     "metadata": {},
     "output_type": "display_data"
    },
    {
     "data": {
      "text/markdown": [
       "M:Änderungsbedarf sieht er darin , dass im Rahmen der Aktualisierungspflicht dem Verbraucher ein Anspruch auf Updates nicht nur gegenüber dem <font color='red'> Verkäufer </font> , sondern zusätzlich auch gegenüber dem <font color='red'> Hersteller </font> zustehen soll und dass die zweijährige Verjährung von Ansprüchen im Zusammenhang mit Mängeln an digitalen Elementen nicht erst mit Ablauf des Aktualisierungszeitraumes zu laufen beginnen soll .  "
      ],
      "text/plain": [
       "<IPython.core.display.Markdown object>"
      ]
     },
     "metadata": {},
     "output_type": "display_data"
    },
    {
     "name": "stdout",
     "output_type": "stream",
     "text": [
      "###\n",
      "\n",
      "\n",
      "281\n"
     ]
    },
    {
     "data": {
      "text/markdown": [
       "B:Es ist mit den staatlichen und den Hoheitsaufgaben des <font color='orange'> Beamten </font> einfach nicht vereinbar , daß er sich nebenbei noch als <font color='green'> Verkäufer </font> betätigt ."
      ],
      "text/plain": [
       "<IPython.core.display.Markdown object>"
      ]
     },
     "metadata": {},
     "output_type": "display_data"
    },
    {
     "data": {
      "text/markdown": [
       "M:Es ist mit den staatlichen und den Hoheitsaufgaben des <font color='green'> Beamten </font> einfach nicht vereinbar , daß er sich nebenbei noch als <font color='green'> Verkäufer </font> betätigt ."
      ],
      "text/plain": [
       "<IPython.core.display.Markdown object>"
      ]
     },
     "metadata": {},
     "output_type": "display_data"
    },
    {
     "name": "stdout",
     "output_type": "stream",
     "text": [
      "###\n",
      "\n",
      "\n",
      "308\n"
     ]
    },
    {
     "data": {
      "text/markdown": [
       "B:Denn der Käufer hätte ja wissen müssen , daß er nicht zahlen kann , und der <font color='orange'> Verkäufer </font> , der ihm diese Waren durch seine Überredungskunst aufdrängt , hat ja den Schutz des Rechts für sich ."
      ],
      "text/plain": [
       "<IPython.core.display.Markdown object>"
      ]
     },
     "metadata": {},
     "output_type": "display_data"
    },
    {
     "data": {
      "text/markdown": [
       "M:Denn der Käufer hätte ja wissen müssen , daß er nicht zahlen kann , und der <font color='green'> Verkäufer </font> , der ihm diese Waren durch seine Überredungskunst aufdrängt , hat ja den Schutz des Rechts für sich ."
      ],
      "text/plain": [
       "<IPython.core.display.Markdown object>"
      ]
     },
     "metadata": {},
     "output_type": "display_data"
    },
    {
     "name": "stdout",
     "output_type": "stream",
     "text": [
      "###\n",
      "\n",
      "\n",
      "360\n"
     ]
    },
    {
     "data": {
      "text/markdown": [
       "B:Beabsichtigt die Bundesregierung , den bei Abzahlungskäufen in der letzten Zeit hervorgetretenen Mißständen im Interesse der Verkäufer sowie der Kunden durch gesetzgeberische oder andere Maßnahmen entgegenzutreten ?"
      ],
      "text/plain": [
       "<IPython.core.display.Markdown object>"
      ]
     },
     "metadata": {},
     "output_type": "display_data"
    },
    {
     "data": {
      "text/markdown": [
       "M:Beabsichtigt die Bundesregierung , den bei Abzahlungskäufen in der letzten Zeit hervorgetretenen Mißständen im Interesse der <font color='red'> Verkäufer </font> sowie der Kunden durch gesetzgeberische oder andere Maßnahmen entgegenzutreten ?"
      ],
      "text/plain": [
       "<IPython.core.display.Markdown object>"
      ]
     },
     "metadata": {},
     "output_type": "display_data"
    },
    {
     "name": "stdout",
     "output_type": "stream",
     "text": [
      "###\n",
      "\n",
      "\n",
      "388\n"
     ]
    },
    {
     "data": {
      "text/markdown": [
       "B:Weitere Folgen sind : kein Schutz vor Zwischenverfügungen - z. B. Handwerkersicherungshypotheken - , kein Schutz des Käufers , kein Schutz vor anderweitigem Verkauf , kein Schutz- im Konkursverfahren des <font color='orange'> Verkäufers </font> und ebenso auch nicht vor Zwangsvollstreckungsmaßnahmen gegen den <font color='orange'> Verkäufer </font> ."
      ],
      "text/plain": [
       "<IPython.core.display.Markdown object>"
      ]
     },
     "metadata": {},
     "output_type": "display_data"
    },
    {
     "data": {
      "text/markdown": [
       "M:Weitere Folgen sind : kein Schutz vor Zwischenverfügungen - z. B. Handwerkersicherungshypotheken - , kein Schutz des Käufers , kein Schutz vor anderweitigem Verkauf , kein Schutz- im Konkursverfahren des <font color='green'> Verkäufers </font> und ebenso auch nicht vor Zwangsvollstreckungsmaßnahmen gegen den <font color='green'> Verkäufer </font> ."
      ],
      "text/plain": [
       "<IPython.core.display.Markdown object>"
      ]
     },
     "metadata": {},
     "output_type": "display_data"
    },
    {
     "name": "stdout",
     "output_type": "stream",
     "text": [
      "###\n",
      "\n",
      "\n",
      "394\n"
     ]
    },
    {
     "data": {
      "text/markdown": [
       "B:Dritten vor einer Fehlentscheidung , indem wir die Wohnungsverwaltung einschalten und ein Bußgeld androhen , falls der Verkäufer das Gesetz umgeht ."
      ],
      "text/plain": [
       "<IPython.core.display.Markdown object>"
      ]
     },
     "metadata": {},
     "output_type": "display_data"
    },
    {
     "data": {
      "text/markdown": [
       "M:Dritten vor einer Fehlentscheidung , indem wir die Wohnungsverwaltung einschalten und ein Bußgeld androhen , falls der <font color='red'> Verkäufer </font> das Gesetz umgeht ."
      ],
      "text/plain": [
       "<IPython.core.display.Markdown object>"
      ]
     },
     "metadata": {},
     "output_type": "display_data"
    },
    {
     "name": "stdout",
     "output_type": "stream",
     "text": [
      "###\n",
      "\n",
      "\n",
      "488\n"
     ]
    },
    {
     "data": {
      "text/markdown": [
       "B:Wird die Genehmigung versagt und befindet sich der Verkäufer in einer Notlage , dann soll das zuständige Land einen billigen Ausgleich herbeiführen ."
      ],
      "text/plain": [
       "<IPython.core.display.Markdown object>"
      ]
     },
     "metadata": {},
     "output_type": "display_data"
    },
    {
     "data": {
      "text/markdown": [
       "M:Wird die Genehmigung versagt und befindet sich der <font color='red'> Verkäufer </font> in einer Notlage , dann soll das zuständige Land einen billigen Ausgleich herbeiführen ."
      ],
      "text/plain": [
       "<IPython.core.display.Markdown object>"
      ]
     },
     "metadata": {},
     "output_type": "display_data"
    },
    {
     "name": "stdout",
     "output_type": "stream",
     "text": [
      "###\n",
      "\n",
      "\n",
      "502\n"
     ]
    },
    {
     "data": {
      "text/markdown": [
       "B:Um die notwendige Aufklärung und Beratung sicherzustellen , sind Regelungen über die fachlichen Kenntnisse der <font color='green'> Verkäufer </font> <font color='orange'> im </font> <font color='orange'> Einzelhandel </font> zu treffen ."
      ],
      "text/plain": [
       "<IPython.core.display.Markdown object>"
      ]
     },
     "metadata": {},
     "output_type": "display_data"
    },
    {
     "data": {
      "text/markdown": [
       "M:Um die notwendige Aufklärung und Beratung sicherzustellen , sind Regelungen über die fachlichen Kenntnisse der <font color='green'> Verkäufer </font> <font color='orange'> im </font> <font color='orange'> Einzelhandel </font> zu treffen ."
      ],
      "text/plain": [
       "<IPython.core.display.Markdown object>"
      ]
     },
     "metadata": {},
     "output_type": "display_data"
    },
    {
     "name": "stdout",
     "output_type": "stream",
     "text": [
      "###\n",
      "\n",
      "\n",
      "515\n"
     ]
    },
    {
     "data": {
      "text/markdown": [
       "B:Eines freilich , Herr Kollege Wallmann , muß man Ihnen lassen - da sind Sie Spitze - : Sie sind kein schlechter <font color='green'> Verkäufer </font> ."
      ],
      "text/plain": [
       "<IPython.core.display.Markdown object>"
      ]
     },
     "metadata": {},
     "output_type": "display_data"
    },
    {
     "data": {
      "text/markdown": [
       "M:Eines freilich , Herr Kollege Wallmann , muß man Ihnen lassen - da sind Sie Spitze - : Sie sind kein schlechter <font color='green'> Verkäufer </font> ."
      ],
      "text/plain": [
       "<IPython.core.display.Markdown object>"
      ]
     },
     "metadata": {},
     "output_type": "display_data"
    },
    {
     "name": "stdout",
     "output_type": "stream",
     "text": [
      "###\n",
      "\n",
      "\n",
      "519\n"
     ]
    },
    {
     "data": {
      "text/markdown": [
       "B:Statt den Kaufpreis in bar entgegenzunehmen , hat der Verkäufer künftig die Möglichkeit , Wohnrecht sowie eine Geld- und Naturalrente -in Form etwa des üblichen Altenteils - auf Lebenszeit mit dem Übernehmer zu vereinbaren ."
      ],
      "text/plain": [
       "<IPython.core.display.Markdown object>"
      ]
     },
     "metadata": {},
     "output_type": "display_data"
    },
    {
     "data": {
      "text/markdown": [
       "M:Statt den Kaufpreis in bar entgegenzunehmen , hat der <font color='red'> Verkäufer </font> künftig die Möglichkeit , Wohnrecht sowie eine Geld- und Naturalrente -in Form etwa des üblichen Altenteils - auf Lebenszeit mit dem Übernehmer zu vereinbaren ."
      ],
      "text/plain": [
       "<IPython.core.display.Markdown object>"
      ]
     },
     "metadata": {},
     "output_type": "display_data"
    },
    {
     "name": "stdout",
     "output_type": "stream",
     "text": [
      "###\n",
      "\n",
      "\n",
      "762\n"
     ]
    },
    {
     "data": {
      "text/markdown": [
       "B:Ihre <font color='orange'> Verkäufer </font> sollen sich gefälligst darum kümmern , daß an demokratische Rechtsstaaten geliefert wird ."
      ],
      "text/plain": [
       "<IPython.core.display.Markdown object>"
      ]
     },
     "metadata": {},
     "output_type": "display_data"
    },
    {
     "data": {
      "text/markdown": [
       "M:Ihre <font color='green'> Verkäufer </font> sollen sich gefälligst darum kümmern , daß an demokratische Rechtsstaaten geliefert wird ."
      ],
      "text/plain": [
       "<IPython.core.display.Markdown object>"
      ]
     },
     "metadata": {},
     "output_type": "display_data"
    },
    {
     "name": "stdout",
     "output_type": "stream",
     "text": [
      "###\n",
      "\n",
      "\n"
     ]
    }
   ],
   "source": [
    "for i, row in validation_df.iterrows():\n",
    "    #if row.annotations == row.pred_bert == row.pred_matcher:\n",
    "    #    continue\n",
    "    \n",
    "    tokens_bert = list(row.tokens)\n",
    "    predicted_bert = list(row.pred_bert_max)\n",
    "    tokens_matcher = list(row.tokens)\n",
    "    predicted_matcher = list(row.pred_matcher_mw)\n",
    "    true = list(row.annotations)\n",
    "    relevant = False\n",
    "    if 'Verkäufer' in tokens_bert:\n",
    "        relevant = True\n",
    "    for t_i, t in enumerate(true):\n",
    "        tp_string = \"<font color='green'> {} </font>\"\n",
    "        fp_string = \"<font color='red'> {} </font>\"\n",
    "        fn_string = \"<font color='orange'> {} </font>\"\n",
    "\n",
    "        p_b = predicted_bert[t_i]\n",
    "        p_m = predicted_matcher[t_i]\n",
    "        if t == 1:\n",
    "            if p_b == 1: #tp\n",
    "                tokens_bert[t_i] = tp_string.format(tokens_bert[t_i])\n",
    "            else: #fn\n",
    "                tokens_bert[t_i] = fn_string.format(tokens_bert[t_i])\n",
    "\n",
    "            if p_m == 1: #tp\n",
    "                tokens_matcher[t_i] = tp_string.format(tokens_matcher[t_i])\n",
    "            else: #fn\n",
    "                tokens_matcher[t_i] = fn_string.format(tokens_matcher[t_i]) \n",
    "        else:\n",
    "            if p_b == 1: #fp\n",
    "                tokens_bert[t_i] = fp_string.format(tokens_bert[t_i])\n",
    "            if p_m == 1: #fp\n",
    "                tokens_matcher[t_i] = fp_string.format(tokens_matcher[t_i]) \n",
    "\n",
    "            \n",
    "    if relevant:\n",
    "        print(i)\n",
    "        display(Markdown('B:' + ' '.join(tokens_bert)))\n",
    "\n",
    "        display(Markdown('M:' + ' '.join(tokens_matcher)))\n",
    "        print('###\\n\\n')"
   ]
  },
  {
   "cell_type": "markdown",
   "metadata": {
    "id": "R4XEgWwi1S6h"
   },
   "source": [
    "Evaluate with probabilities"
   ]
  },
  {
   "cell_type": "code",
   "execution_count": 63,
   "metadata": {
    "colab": {
     "base_uri": "https://localhost:8080/"
    },
    "id": "iKycDXpf2Lec",
    "outputId": "7a146d98-7d93-4d9b-d803-16ff5f6f89d5"
   },
   "outputs": [
    {
     "name": "stdout",
     "output_type": "stream",
     "text": [
      "O\t-9.15356731414795\t[CLS]\t\n",
      "O\t-10.083218574523926\tUm\t\n",
      "O\t-10.705368995666504\tdie\t\n",
      "O\t-10.18628215789795\tnotwendige\t\n",
      "O\t-7.721098899841309\tAufklärung\t\n",
      "O\t-10.03056526184082\tund\t\n",
      "O\t-7.935290336608887\tBeratung\t\n",
      "O\t-10.74579906463623\tsicherzustellen\t\n",
      "O\t-10.911306381225586\t,\t\n",
      "O\t-10.669681549072266\tsind\t\n",
      "O\t-10.016093254089355\tRegelungen\t\n",
      "O\t-9.923088073730469\tüber\t\n",
      "O\t-9.833395957946777\tdie\t\n",
      "O\t-8.96151351928711\tfach\t\n",
      "O\t-9.270217895507812\t##lichen\t\n",
      "O\t-7.808472633361816\tKenntnisse\t\n",
      "O\t-6.193926811218262\tder\t\n",
      "B-PROF\t1.0664318799972534\tVerkäufer\t\n",
      "O\t-5.115087509155273\tim\t\n",
      "O\t-3.9412169456481934\tEinzelhandel\t\n",
      "O\t-10.498884201049805\tzu\t\n",
      "O\t-10.574868202209473\ttreffen\t\n",
      "O\t-10.373981475830078\t.\t\n",
      "O\t-7.675734519958496\t[SEP]\t\n"
     ]
    }
   ],
   "source": [
    "# text = ' '.join(validation_df.loc[422, 'tokens'])\n",
    "# text = 'Der Schneider begrüßt Klaus Schneider und den anderen Schneider.'\n",
    "text = ' '.join(validation_df.loc[502, 'tokens'])\n",
    "\n",
    "#text = 'Wir suchen zum nächstmöglichen Zeitpunkt einen Schreiner für unseren Familienbetrieb!'\n",
    "#text = 'Rentner und Senioren müssen es sich noch leisten können.'\n",
    "inputs = tokenizer(text, return_tensors=\"pt\")\n",
    "\n",
    "with torch.no_grad():\n",
    "    logits = model(**inputs).logits\n",
    "\n",
    "predictions = torch.argmax(logits, dim=2)\n",
    "predicted_token_class = [model.config.id2label[t.item()] for t in predictions[0]]\n",
    "\n",
    "probs = logits.numpy()\n",
    "tokens = tokenizer.convert_ids_to_tokens(inputs['input_ids'].flatten())\n",
    "for i, t in enumerate(tokens):\n",
    "    prob_o = probs[0,i,0]\n",
    "    prob_prof = probs[0,i,1]\n",
    "    prob_dif = prob_prof - prob_o\n",
    "    print('{}\\t{}\\t{}\\t'.format(predicted_token_class[i], prob_dif, t))"
   ]
  }
 ],
 "metadata": {
  "accelerator": "GPU",
  "colab": {
   "gpuType": "T4",
   "provenance": []
  },
  "gpuClass": "standard",
  "kernelspec": {
   "display_name": "Python 3 (ipykernel)",
   "language": "python",
   "name": "python3"
  },
  "language_info": {
   "codemirror_mode": {
    "name": "ipython",
    "version": 3
   },
   "file_extension": ".py",
   "mimetype": "text/x-python",
   "name": "python",
   "nbconvert_exporter": "python",
   "pygments_lexer": "ipython3",
   "version": "3.8.16"
  },
  "widgets": {
   "application/vnd.jupyter.widget-state+json": {
    "02c84b4a82b94589841392378af0c886": {
     "model_module": "@jupyter-widgets/base",
     "model_module_version": "1.2.0",
     "model_name": "LayoutModel",
     "state": {
      "_model_module": "@jupyter-widgets/base",
      "_model_module_version": "1.2.0",
      "_model_name": "LayoutModel",
      "_view_count": null,
      "_view_module": "@jupyter-widgets/base",
      "_view_module_version": "1.2.0",
      "_view_name": "LayoutView",
      "align_content": null,
      "align_items": null,
      "align_self": null,
      "border": null,
      "bottom": null,
      "display": null,
      "flex": null,
      "flex_flow": null,
      "grid_area": null,
      "grid_auto_columns": null,
      "grid_auto_flow": null,
      "grid_auto_rows": null,
      "grid_column": null,
      "grid_gap": null,
      "grid_row": null,
      "grid_template_areas": null,
      "grid_template_columns": null,
      "grid_template_rows": null,
      "height": null,
      "justify_content": null,
      "justify_items": null,
      "left": null,
      "margin": null,
      "max_height": null,
      "max_width": null,
      "min_height": null,
      "min_width": null,
      "object_fit": null,
      "object_position": null,
      "order": null,
      "overflow": null,
      "overflow_x": null,
      "overflow_y": null,
      "padding": null,
      "right": null,
      "top": null,
      "visibility": null,
      "width": null
     }
    },
    "02d2c1fb26154c1b817e0d86fda88d34": {
     "model_module": "@jupyter-widgets/controls",
     "model_module_version": "1.5.0",
     "model_name": "HTMLModel",
     "state": {
      "_dom_classes": [],
      "_model_module": "@jupyter-widgets/controls",
      "_model_module_version": "1.5.0",
      "_model_name": "HTMLModel",
      "_view_count": null,
      "_view_module": "@jupyter-widgets/controls",
      "_view_module_version": "1.5.0",
      "_view_name": "HTMLView",
      "description": "",
      "description_tooltip": null,
      "layout": "IPY_MODEL_9dd88b3d17e54e698fac63a4e814347a",
      "placeholder": "​",
      "style": "IPY_MODEL_70c45da59ccd4d07ad3298a57dda47a6",
      "value": "<center> <img\nsrc=https://huggingface.co/front/assets/huggingface_logo-noborder.svg\nalt='Hugging Face'> <br> Copy a token from <a\nhref=\"https://huggingface.co/settings/tokens\" target=\"_blank\">your Hugging Face\ntokens page</a> and paste it below. <br> Immediately click login after copying\nyour token or it might be stored in plain text in this notebook file. </center>"
     }
    },
    "04f7d3f8fc8d4444bd91aaaf66bd8e72": {
     "model_module": "@jupyter-widgets/base",
     "model_module_version": "1.2.0",
     "model_name": "LayoutModel",
     "state": {
      "_model_module": "@jupyter-widgets/base",
      "_model_module_version": "1.2.0",
      "_model_name": "LayoutModel",
      "_view_count": null,
      "_view_module": "@jupyter-widgets/base",
      "_view_module_version": "1.2.0",
      "_view_name": "LayoutView",
      "align_content": null,
      "align_items": null,
      "align_self": null,
      "border": null,
      "bottom": null,
      "display": null,
      "flex": null,
      "flex_flow": null,
      "grid_area": null,
      "grid_auto_columns": null,
      "grid_auto_flow": null,
      "grid_auto_rows": null,
      "grid_column": null,
      "grid_gap": null,
      "grid_row": null,
      "grid_template_areas": null,
      "grid_template_columns": null,
      "grid_template_rows": null,
      "height": null,
      "justify_content": null,
      "justify_items": null,
      "left": null,
      "margin": null,
      "max_height": null,
      "max_width": null,
      "min_height": null,
      "min_width": null,
      "object_fit": null,
      "object_position": null,
      "order": null,
      "overflow": null,
      "overflow_x": null,
      "overflow_y": null,
      "padding": null,
      "right": null,
      "top": null,
      "visibility": null,
      "width": null
     }
    },
    "062487845cdd493c967f5d565922bc7a": {
     "model_module": "@jupyter-widgets/controls",
     "model_module_version": "1.5.0",
     "model_name": "LabelModel",
     "state": {
      "_dom_classes": [],
      "_model_module": "@jupyter-widgets/controls",
      "_model_module_version": "1.5.0",
      "_model_name": "LabelModel",
      "_view_count": null,
      "_view_module": "@jupyter-widgets/controls",
      "_view_module_version": "1.5.0",
      "_view_name": "LabelView",
      "description": "",
      "description_tooltip": null,
      "layout": "IPY_MODEL_02c84b4a82b94589841392378af0c886",
      "placeholder": "​",
      "style": "IPY_MODEL_b780289677a34fe18caa09d60e29c55d",
      "value": "Your token has been saved to /root/.cache/huggingface/token"
     }
    },
    "1d6b41d66fbd4756b17d711f85fbe6fd": {
     "model_module": "@jupyter-widgets/controls",
     "model_module_version": "1.5.0",
     "model_name": "LabelModel",
     "state": {
      "_dom_classes": [],
      "_model_module": "@jupyter-widgets/controls",
      "_model_module_version": "1.5.0",
      "_model_name": "LabelModel",
      "_view_count": null,
      "_view_module": "@jupyter-widgets/controls",
      "_view_module_version": "1.5.0",
      "_view_name": "LabelView",
      "description": "",
      "description_tooltip": null,
      "layout": "IPY_MODEL_384f112a42de4418a56e6df1ddcdfd9a",
      "placeholder": "​",
      "style": "IPY_MODEL_9503843e277a4fb4bbb309b2c3d9a7e2",
      "value": "Login successful"
     }
    },
    "1e2fb3cd0623477085bd3d7ced021608": {
     "model_module": "@jupyter-widgets/base",
     "model_module_version": "1.2.0",
     "model_name": "LayoutModel",
     "state": {
      "_model_module": "@jupyter-widgets/base",
      "_model_module_version": "1.2.0",
      "_model_name": "LayoutModel",
      "_view_count": null,
      "_view_module": "@jupyter-widgets/base",
      "_view_module_version": "1.2.0",
      "_view_name": "LayoutView",
      "align_content": null,
      "align_items": null,
      "align_self": null,
      "border": null,
      "bottom": null,
      "display": null,
      "flex": null,
      "flex_flow": null,
      "grid_area": null,
      "grid_auto_columns": null,
      "grid_auto_flow": null,
      "grid_auto_rows": null,
      "grid_column": null,
      "grid_gap": null,
      "grid_row": null,
      "grid_template_areas": null,
      "grid_template_columns": null,
      "grid_template_rows": null,
      "height": null,
      "justify_content": null,
      "justify_items": null,
      "left": null,
      "margin": null,
      "max_height": null,
      "max_width": null,
      "min_height": null,
      "min_width": null,
      "object_fit": null,
      "object_position": null,
      "order": null,
      "overflow": null,
      "overflow_x": null,
      "overflow_y": null,
      "padding": null,
      "right": null,
      "top": null,
      "visibility": null,
      "width": null
     }
    },
    "2acdcff116bf472e8188d2c72a81c799": {
     "model_module": "@jupyter-widgets/controls",
     "model_module_version": "1.5.0",
     "model_name": "ButtonStyleModel",
     "state": {
      "_model_module": "@jupyter-widgets/controls",
      "_model_module_version": "1.5.0",
      "_model_name": "ButtonStyleModel",
      "_view_count": null,
      "_view_module": "@jupyter-widgets/base",
      "_view_module_version": "1.2.0",
      "_view_name": "StyleView",
      "button_color": null,
      "font_weight": ""
     }
    },
    "2cf91aa0020541b4ac5d55c921eed110": {
     "model_module": "@jupyter-widgets/controls",
     "model_module_version": "1.5.0",
     "model_name": "LabelModel",
     "state": {
      "_dom_classes": [],
      "_model_module": "@jupyter-widgets/controls",
      "_model_module_version": "1.5.0",
      "_model_name": "LabelModel",
      "_view_count": null,
      "_view_module": "@jupyter-widgets/controls",
      "_view_module_version": "1.5.0",
      "_view_name": "LabelView",
      "description": "",
      "description_tooltip": null,
      "layout": "IPY_MODEL_1e2fb3cd0623477085bd3d7ced021608",
      "placeholder": "​",
      "style": "IPY_MODEL_347f3a63041c4c0aa93947066444f5c8",
      "value": "Token is valid."
     }
    },
    "32df2daef26c45beb72dce3e85bc60aa": {
     "model_module": "@jupyter-widgets/base",
     "model_module_version": "1.2.0",
     "model_name": "LayoutModel",
     "state": {
      "_model_module": "@jupyter-widgets/base",
      "_model_module_version": "1.2.0",
      "_model_name": "LayoutModel",
      "_view_count": null,
      "_view_module": "@jupyter-widgets/base",
      "_view_module_version": "1.2.0",
      "_view_name": "LayoutView",
      "align_content": null,
      "align_items": "center",
      "align_self": null,
      "border": null,
      "bottom": null,
      "display": "flex",
      "flex": null,
      "flex_flow": "column",
      "grid_area": null,
      "grid_auto_columns": null,
      "grid_auto_flow": null,
      "grid_auto_rows": null,
      "grid_column": null,
      "grid_gap": null,
      "grid_row": null,
      "grid_template_areas": null,
      "grid_template_columns": null,
      "grid_template_rows": null,
      "height": null,
      "justify_content": null,
      "justify_items": null,
      "left": null,
      "margin": null,
      "max_height": null,
      "max_width": null,
      "min_height": null,
      "min_width": null,
      "object_fit": null,
      "object_position": null,
      "order": null,
      "overflow": null,
      "overflow_x": null,
      "overflow_y": null,
      "padding": null,
      "right": null,
      "top": null,
      "visibility": null,
      "width": "50%"
     }
    },
    "347f3a63041c4c0aa93947066444f5c8": {
     "model_module": "@jupyter-widgets/controls",
     "model_module_version": "1.5.0",
     "model_name": "DescriptionStyleModel",
     "state": {
      "_model_module": "@jupyter-widgets/controls",
      "_model_module_version": "1.5.0",
      "_model_name": "DescriptionStyleModel",
      "_view_count": null,
      "_view_module": "@jupyter-widgets/base",
      "_view_module_version": "1.2.0",
      "_view_name": "StyleView",
      "description_width": ""
     }
    },
    "384f112a42de4418a56e6df1ddcdfd9a": {
     "model_module": "@jupyter-widgets/base",
     "model_module_version": "1.2.0",
     "model_name": "LayoutModel",
     "state": {
      "_model_module": "@jupyter-widgets/base",
      "_model_module_version": "1.2.0",
      "_model_name": "LayoutModel",
      "_view_count": null,
      "_view_module": "@jupyter-widgets/base",
      "_view_module_version": "1.2.0",
      "_view_name": "LayoutView",
      "align_content": null,
      "align_items": null,
      "align_self": null,
      "border": null,
      "bottom": null,
      "display": null,
      "flex": null,
      "flex_flow": null,
      "grid_area": null,
      "grid_auto_columns": null,
      "grid_auto_flow": null,
      "grid_auto_rows": null,
      "grid_column": null,
      "grid_gap": null,
      "grid_row": null,
      "grid_template_areas": null,
      "grid_template_columns": null,
      "grid_template_rows": null,
      "height": null,
      "justify_content": null,
      "justify_items": null,
      "left": null,
      "margin": null,
      "max_height": null,
      "max_width": null,
      "min_height": null,
      "min_width": null,
      "object_fit": null,
      "object_position": null,
      "order": null,
      "overflow": null,
      "overflow_x": null,
      "overflow_y": null,
      "padding": null,
      "right": null,
      "top": null,
      "visibility": null,
      "width": null
     }
    },
    "3eade570f91346ffaad18e8be6300c0a": {
     "model_module": "@jupyter-widgets/controls",
     "model_module_version": "1.5.0",
     "model_name": "DescriptionStyleModel",
     "state": {
      "_model_module": "@jupyter-widgets/controls",
      "_model_module_version": "1.5.0",
      "_model_name": "DescriptionStyleModel",
      "_view_count": null,
      "_view_module": "@jupyter-widgets/base",
      "_view_module_version": "1.2.0",
      "_view_name": "StyleView",
      "description_width": ""
     }
    },
    "4cbc248a59d04848b3a9fd68d8f608f7": {
     "model_module": "@jupyter-widgets/controls",
     "model_module_version": "1.5.0",
     "model_name": "PasswordModel",
     "state": {
      "_dom_classes": [],
      "_model_module": "@jupyter-widgets/controls",
      "_model_module_version": "1.5.0",
      "_model_name": "PasswordModel",
      "_view_count": null,
      "_view_module": "@jupyter-widgets/controls",
      "_view_module_version": "1.5.0",
      "_view_name": "PasswordView",
      "continuous_update": true,
      "description": "Token:",
      "description_tooltip": null,
      "disabled": false,
      "layout": "IPY_MODEL_e170ea83a54647cabeb35b62ba8b070d",
      "placeholder": "​",
      "style": "IPY_MODEL_dd50ee1dac44492187b2b5eb8d42d34b",
      "value": ""
     }
    },
    "5938ed61b5cb4cf9983d716a92e18a72": {
     "model_module": "@jupyter-widgets/controls",
     "model_module_version": "1.5.0",
     "model_name": "DescriptionStyleModel",
     "state": {
      "_model_module": "@jupyter-widgets/controls",
      "_model_module_version": "1.5.0",
      "_model_name": "DescriptionStyleModel",
      "_view_count": null,
      "_view_module": "@jupyter-widgets/base",
      "_view_module_version": "1.2.0",
      "_view_name": "StyleView",
      "description_width": ""
     }
    },
    "5a6a1aaf19d24e6981a9af00edc6a045": {
     "model_module": "@jupyter-widgets/base",
     "model_module_version": "1.2.0",
     "model_name": "LayoutModel",
     "state": {
      "_model_module": "@jupyter-widgets/base",
      "_model_module_version": "1.2.0",
      "_model_name": "LayoutModel",
      "_view_count": null,
      "_view_module": "@jupyter-widgets/base",
      "_view_module_version": "1.2.0",
      "_view_name": "LayoutView",
      "align_content": null,
      "align_items": null,
      "align_self": null,
      "border": null,
      "bottom": null,
      "display": null,
      "flex": null,
      "flex_flow": null,
      "grid_area": null,
      "grid_auto_columns": null,
      "grid_auto_flow": null,
      "grid_auto_rows": null,
      "grid_column": null,
      "grid_gap": null,
      "grid_row": null,
      "grid_template_areas": null,
      "grid_template_columns": null,
      "grid_template_rows": null,
      "height": null,
      "justify_content": null,
      "justify_items": null,
      "left": null,
      "margin": null,
      "max_height": null,
      "max_width": null,
      "min_height": null,
      "min_width": null,
      "object_fit": null,
      "object_position": null,
      "order": null,
      "overflow": null,
      "overflow_x": null,
      "overflow_y": null,
      "padding": null,
      "right": null,
      "top": null,
      "visibility": null,
      "width": null
     }
    },
    "696dc820417a4c1d804363425b8baf10": {
     "model_module": "@jupyter-widgets/controls",
     "model_module_version": "1.5.0",
     "model_name": "ButtonModel",
     "state": {
      "_dom_classes": [],
      "_model_module": "@jupyter-widgets/controls",
      "_model_module_version": "1.5.0",
      "_model_name": "ButtonModel",
      "_view_count": null,
      "_view_module": "@jupyter-widgets/controls",
      "_view_module_version": "1.5.0",
      "_view_name": "ButtonView",
      "button_style": "",
      "description": "Login",
      "disabled": false,
      "icon": "",
      "layout": "IPY_MODEL_5a6a1aaf19d24e6981a9af00edc6a045",
      "style": "IPY_MODEL_2acdcff116bf472e8188d2c72a81c799",
      "tooltip": ""
     }
    },
    "6c9016fbd9a94d91866ee861a2b5bda5": {
     "model_module": "@jupyter-widgets/controls",
     "model_module_version": "1.5.0",
     "model_name": "LabelModel",
     "state": {
      "_dom_classes": [],
      "_model_module": "@jupyter-widgets/controls",
      "_model_module_version": "1.5.0",
      "_model_name": "LabelModel",
      "_view_count": null,
      "_view_module": "@jupyter-widgets/controls",
      "_view_module_version": "1.5.0",
      "_view_name": "LabelView",
      "description": "",
      "description_tooltip": null,
      "layout": "IPY_MODEL_dc33db0386f94fc0b523d8ef91af2e68",
      "placeholder": "​",
      "style": "IPY_MODEL_5938ed61b5cb4cf9983d716a92e18a72",
      "value": "Connecting..."
     }
    },
    "6cd3df0c946045a9ad573b2a390443ff": {
     "model_module": "@jupyter-widgets/controls",
     "model_module_version": "1.5.0",
     "model_name": "HTMLModel",
     "state": {
      "_dom_classes": [],
      "_model_module": "@jupyter-widgets/controls",
      "_model_module_version": "1.5.0",
      "_model_name": "HTMLModel",
      "_view_count": null,
      "_view_module": "@jupyter-widgets/controls",
      "_view_module_version": "1.5.0",
      "_view_name": "HTMLView",
      "description": "",
      "description_tooltip": null,
      "layout": "IPY_MODEL_04f7d3f8fc8d4444bd91aaaf66bd8e72",
      "placeholder": "​",
      "style": "IPY_MODEL_926f337cb0cb42b9809cc582127afd63",
      "value": "\n<b>Pro Tip:</b> If you don't already have one, you can create a dedicated\n'notebooks' token with 'write' access, that you can then easily reuse for all\nnotebooks. </center>"
     }
    },
    "6f8981a5633440c1b4ddbda4dc07bb20": {
     "model_module": "@jupyter-widgets/base",
     "model_module_version": "1.2.0",
     "model_name": "LayoutModel",
     "state": {
      "_model_module": "@jupyter-widgets/base",
      "_model_module_version": "1.2.0",
      "_model_name": "LayoutModel",
      "_view_count": null,
      "_view_module": "@jupyter-widgets/base",
      "_view_module_version": "1.2.0",
      "_view_name": "LayoutView",
      "align_content": null,
      "align_items": null,
      "align_self": null,
      "border": null,
      "bottom": null,
      "display": null,
      "flex": null,
      "flex_flow": null,
      "grid_area": null,
      "grid_auto_columns": null,
      "grid_auto_flow": null,
      "grid_auto_rows": null,
      "grid_column": null,
      "grid_gap": null,
      "grid_row": null,
      "grid_template_areas": null,
      "grid_template_columns": null,
      "grid_template_rows": null,
      "height": null,
      "justify_content": null,
      "justify_items": null,
      "left": null,
      "margin": null,
      "max_height": null,
      "max_width": null,
      "min_height": null,
      "min_width": null,
      "object_fit": null,
      "object_position": null,
      "order": null,
      "overflow": null,
      "overflow_x": null,
      "overflow_y": null,
      "padding": null,
      "right": null,
      "top": null,
      "visibility": null,
      "width": null
     }
    },
    "70c45da59ccd4d07ad3298a57dda47a6": {
     "model_module": "@jupyter-widgets/controls",
     "model_module_version": "1.5.0",
     "model_name": "DescriptionStyleModel",
     "state": {
      "_model_module": "@jupyter-widgets/controls",
      "_model_module_version": "1.5.0",
      "_model_name": "DescriptionStyleModel",
      "_view_count": null,
      "_view_module": "@jupyter-widgets/base",
      "_view_module_version": "1.2.0",
      "_view_name": "StyleView",
      "description_width": ""
     }
    },
    "74940cafd20c44fea0945d7f13815130": {
     "model_module": "@jupyter-widgets/controls",
     "model_module_version": "1.5.0",
     "model_name": "DescriptionStyleModel",
     "state": {
      "_model_module": "@jupyter-widgets/controls",
      "_model_module_version": "1.5.0",
      "_model_name": "DescriptionStyleModel",
      "_view_count": null,
      "_view_module": "@jupyter-widgets/base",
      "_view_module_version": "1.2.0",
      "_view_name": "StyleView",
      "description_width": ""
     }
    },
    "8bd3c128b5d3488c9fb28957c2f9645b": {
     "model_module": "@jupyter-widgets/base",
     "model_module_version": "1.2.0",
     "model_name": "LayoutModel",
     "state": {
      "_model_module": "@jupyter-widgets/base",
      "_model_module_version": "1.2.0",
      "_model_name": "LayoutModel",
      "_view_count": null,
      "_view_module": "@jupyter-widgets/base",
      "_view_module_version": "1.2.0",
      "_view_name": "LayoutView",
      "align_content": null,
      "align_items": null,
      "align_self": null,
      "border": null,
      "bottom": null,
      "display": null,
      "flex": null,
      "flex_flow": null,
      "grid_area": null,
      "grid_auto_columns": null,
      "grid_auto_flow": null,
      "grid_auto_rows": null,
      "grid_column": null,
      "grid_gap": null,
      "grid_row": null,
      "grid_template_areas": null,
      "grid_template_columns": null,
      "grid_template_rows": null,
      "height": null,
      "justify_content": null,
      "justify_items": null,
      "left": null,
      "margin": null,
      "max_height": null,
      "max_width": null,
      "min_height": null,
      "min_width": null,
      "object_fit": null,
      "object_position": null,
      "order": null,
      "overflow": null,
      "overflow_x": null,
      "overflow_y": null,
      "padding": null,
      "right": null,
      "top": null,
      "visibility": null,
      "width": null
     }
    },
    "926f337cb0cb42b9809cc582127afd63": {
     "model_module": "@jupyter-widgets/controls",
     "model_module_version": "1.5.0",
     "model_name": "DescriptionStyleModel",
     "state": {
      "_model_module": "@jupyter-widgets/controls",
      "_model_module_version": "1.5.0",
      "_model_name": "DescriptionStyleModel",
      "_view_count": null,
      "_view_module": "@jupyter-widgets/base",
      "_view_module_version": "1.2.0",
      "_view_name": "StyleView",
      "description_width": ""
     }
    },
    "9503843e277a4fb4bbb309b2c3d9a7e2": {
     "model_module": "@jupyter-widgets/controls",
     "model_module_version": "1.5.0",
     "model_name": "DescriptionStyleModel",
     "state": {
      "_model_module": "@jupyter-widgets/controls",
      "_model_module_version": "1.5.0",
      "_model_name": "DescriptionStyleModel",
      "_view_count": null,
      "_view_module": "@jupyter-widgets/base",
      "_view_module_version": "1.2.0",
      "_view_name": "StyleView",
      "description_width": ""
     }
    },
    "9dd88b3d17e54e698fac63a4e814347a": {
     "model_module": "@jupyter-widgets/base",
     "model_module_version": "1.2.0",
     "model_name": "LayoutModel",
     "state": {
      "_model_module": "@jupyter-widgets/base",
      "_model_module_version": "1.2.0",
      "_model_name": "LayoutModel",
      "_view_count": null,
      "_view_module": "@jupyter-widgets/base",
      "_view_module_version": "1.2.0",
      "_view_name": "LayoutView",
      "align_content": null,
      "align_items": null,
      "align_self": null,
      "border": null,
      "bottom": null,
      "display": null,
      "flex": null,
      "flex_flow": null,
      "grid_area": null,
      "grid_auto_columns": null,
      "grid_auto_flow": null,
      "grid_auto_rows": null,
      "grid_column": null,
      "grid_gap": null,
      "grid_row": null,
      "grid_template_areas": null,
      "grid_template_columns": null,
      "grid_template_rows": null,
      "height": null,
      "justify_content": null,
      "justify_items": null,
      "left": null,
      "margin": null,
      "max_height": null,
      "max_width": null,
      "min_height": null,
      "min_width": null,
      "object_fit": null,
      "object_position": null,
      "order": null,
      "overflow": null,
      "overflow_x": null,
      "overflow_y": null,
      "padding": null,
      "right": null,
      "top": null,
      "visibility": null,
      "width": null
     }
    },
    "b780289677a34fe18caa09d60e29c55d": {
     "model_module": "@jupyter-widgets/controls",
     "model_module_version": "1.5.0",
     "model_name": "DescriptionStyleModel",
     "state": {
      "_model_module": "@jupyter-widgets/controls",
      "_model_module_version": "1.5.0",
      "_model_name": "DescriptionStyleModel",
      "_view_count": null,
      "_view_module": "@jupyter-widgets/base",
      "_view_module_version": "1.2.0",
      "_view_name": "StyleView",
      "description_width": ""
     }
    },
    "bd48ba0c132c4efcafa26a127c2a8149": {
     "model_module": "@jupyter-widgets/controls",
     "model_module_version": "1.5.0",
     "model_name": "CheckboxModel",
     "state": {
      "_dom_classes": [],
      "_model_module": "@jupyter-widgets/controls",
      "_model_module_version": "1.5.0",
      "_model_name": "CheckboxModel",
      "_view_count": null,
      "_view_module": "@jupyter-widgets/controls",
      "_view_module_version": "1.5.0",
      "_view_name": "CheckboxView",
      "description": "Add token as git credential?",
      "description_tooltip": null,
      "disabled": false,
      "indent": true,
      "layout": "IPY_MODEL_8bd3c128b5d3488c9fb28957c2f9645b",
      "style": "IPY_MODEL_74940cafd20c44fea0945d7f13815130",
      "value": true
     }
    },
    "dc33db0386f94fc0b523d8ef91af2e68": {
     "model_module": "@jupyter-widgets/base",
     "model_module_version": "1.2.0",
     "model_name": "LayoutModel",
     "state": {
      "_model_module": "@jupyter-widgets/base",
      "_model_module_version": "1.2.0",
      "_model_name": "LayoutModel",
      "_view_count": null,
      "_view_module": "@jupyter-widgets/base",
      "_view_module_version": "1.2.0",
      "_view_name": "LayoutView",
      "align_content": null,
      "align_items": null,
      "align_self": null,
      "border": null,
      "bottom": null,
      "display": null,
      "flex": null,
      "flex_flow": null,
      "grid_area": null,
      "grid_auto_columns": null,
      "grid_auto_flow": null,
      "grid_auto_rows": null,
      "grid_column": null,
      "grid_gap": null,
      "grid_row": null,
      "grid_template_areas": null,
      "grid_template_columns": null,
      "grid_template_rows": null,
      "height": null,
      "justify_content": null,
      "justify_items": null,
      "left": null,
      "margin": null,
      "max_height": null,
      "max_width": null,
      "min_height": null,
      "min_width": null,
      "object_fit": null,
      "object_position": null,
      "order": null,
      "overflow": null,
      "overflow_x": null,
      "overflow_y": null,
      "padding": null,
      "right": null,
      "top": null,
      "visibility": null,
      "width": null
     }
    },
    "dd50ee1dac44492187b2b5eb8d42d34b": {
     "model_module": "@jupyter-widgets/controls",
     "model_module_version": "1.5.0",
     "model_name": "DescriptionStyleModel",
     "state": {
      "_model_module": "@jupyter-widgets/controls",
      "_model_module_version": "1.5.0",
      "_model_name": "DescriptionStyleModel",
      "_view_count": null,
      "_view_module": "@jupyter-widgets/base",
      "_view_module_version": "1.2.0",
      "_view_name": "StyleView",
      "description_width": ""
     }
    },
    "e170ea83a54647cabeb35b62ba8b070d": {
     "model_module": "@jupyter-widgets/base",
     "model_module_version": "1.2.0",
     "model_name": "LayoutModel",
     "state": {
      "_model_module": "@jupyter-widgets/base",
      "_model_module_version": "1.2.0",
      "_model_name": "LayoutModel",
      "_view_count": null,
      "_view_module": "@jupyter-widgets/base",
      "_view_module_version": "1.2.0",
      "_view_name": "LayoutView",
      "align_content": null,
      "align_items": null,
      "align_self": null,
      "border": null,
      "bottom": null,
      "display": null,
      "flex": null,
      "flex_flow": null,
      "grid_area": null,
      "grid_auto_columns": null,
      "grid_auto_flow": null,
      "grid_auto_rows": null,
      "grid_column": null,
      "grid_gap": null,
      "grid_row": null,
      "grid_template_areas": null,
      "grid_template_columns": null,
      "grid_template_rows": null,
      "height": null,
      "justify_content": null,
      "justify_items": null,
      "left": null,
      "margin": null,
      "max_height": null,
      "max_width": null,
      "min_height": null,
      "min_width": null,
      "object_fit": null,
      "object_position": null,
      "order": null,
      "overflow": null,
      "overflow_x": null,
      "overflow_y": null,
      "padding": null,
      "right": null,
      "top": null,
      "visibility": null,
      "width": null
     }
    },
    "e3f8f59af78945c392a0b1ac26084a54": {
     "model_module": "@jupyter-widgets/controls",
     "model_module_version": "1.5.0",
     "model_name": "LabelModel",
     "state": {
      "_dom_classes": [],
      "_model_module": "@jupyter-widgets/controls",
      "_model_module_version": "1.5.0",
      "_model_name": "LabelModel",
      "_view_count": null,
      "_view_module": "@jupyter-widgets/controls",
      "_view_module_version": "1.5.0",
      "_view_name": "LabelView",
      "description": "",
      "description_tooltip": null,
      "layout": "IPY_MODEL_6f8981a5633440c1b4ddbda4dc07bb20",
      "placeholder": "​",
      "style": "IPY_MODEL_3eade570f91346ffaad18e8be6300c0a",
      "value": "Your token has been saved in your configured git credential helpers (store)."
     }
    },
    "f49ccdfe96a44d7888bd6b3d938439a2": {
     "model_module": "@jupyter-widgets/controls",
     "model_module_version": "1.5.0",
     "model_name": "VBoxModel",
     "state": {
      "_dom_classes": [],
      "_model_module": "@jupyter-widgets/controls",
      "_model_module_version": "1.5.0",
      "_model_name": "VBoxModel",
      "_view_count": null,
      "_view_module": "@jupyter-widgets/controls",
      "_view_module_version": "1.5.0",
      "_view_name": "VBoxView",
      "box_style": "",
      "children": [
       "IPY_MODEL_2cf91aa0020541b4ac5d55c921eed110",
       "IPY_MODEL_e3f8f59af78945c392a0b1ac26084a54",
       "IPY_MODEL_062487845cdd493c967f5d565922bc7a",
       "IPY_MODEL_1d6b41d66fbd4756b17d711f85fbe6fd"
      ],
      "layout": "IPY_MODEL_32df2daef26c45beb72dce3e85bc60aa"
     }
    }
   }
  }
 },
 "nbformat": 4,
 "nbformat_minor": 1
}
