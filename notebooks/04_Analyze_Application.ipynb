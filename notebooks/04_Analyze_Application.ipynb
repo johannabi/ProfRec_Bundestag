{
 "cells": [
  {
   "cell_type": "code",
   "execution_count": 18,
   "metadata": {
    "colab": {
     "base_uri": "https://localhost:8080/"
    },
    "id": "pm2Yq2kVQFT9",
    "outputId": "bcf57bbe-9ede-4d28-bf62-f62d6a1d68f7",
    "scrolled": true
   },
   "outputs": [
    {
     "name": "stdout",
     "output_type": "stream",
     "text": [
      "2024-01-29 09:18:14.630265: E external/local_xla/xla/stream_executor/cuda/cuda_dnn.cc:9261] Unable to register cuDNN factory: Attempting to register factory for plugin cuDNN when one has already been registered\n",
      "2024-01-29 09:18:14.630323: E external/local_xla/xla/stream_executor/cuda/cuda_fft.cc:607] Unable to register cuFFT factory: Attempting to register factory for plugin cuFFT when one has already been registered\n",
      "2024-01-29 09:18:14.634555: E external/local_xla/xla/stream_executor/cuda/cuda_blas.cc:1515] Unable to register cuBLAS factory: Attempting to register factory for plugin cuBLAS when one has already been registered\n",
      "2024-01-29 09:18:15.913403: W tensorflow/compiler/tf2tensorrt/utils/py_utils.cc:38] TF-TRT Warning: Could not find TensorRT\n",
      "Collecting de-core-news-lg==3.6.0\n",
      "  Downloading https://github.com/explosion/spacy-models/releases/download/de_core_news_lg-3.6.0/de_core_news_lg-3.6.0-py3-none-any.whl (567.8 MB)\n",
      "\u001b[2K     \u001b[90m━━━━━━━━━━━━━━━━━━━━━━━━━━━━━━━━━━━━━━━━\u001b[0m \u001b[32m567.8/567.8 MB\u001b[0m \u001b[31m2.2 MB/s\u001b[0m eta \u001b[36m0:00:00\u001b[0m\n",
      "\u001b[?25hRequirement already satisfied: spacy<3.7.0,>=3.6.0 in /usr/local/lib/python3.10/dist-packages (from de-core-news-lg==3.6.0) (3.6.1)\n",
      "Requirement already satisfied: spacy-legacy<3.1.0,>=3.0.11 in /usr/local/lib/python3.10/dist-packages (from spacy<3.7.0,>=3.6.0->de-core-news-lg==3.6.0) (3.0.12)\n",
      "Requirement already satisfied: spacy-loggers<2.0.0,>=1.0.0 in /usr/local/lib/python3.10/dist-packages (from spacy<3.7.0,>=3.6.0->de-core-news-lg==3.6.0) (1.0.5)\n",
      "Requirement already satisfied: murmurhash<1.1.0,>=0.28.0 in /usr/local/lib/python3.10/dist-packages (from spacy<3.7.0,>=3.6.0->de-core-news-lg==3.6.0) (1.0.10)\n",
      "Requirement already satisfied: cymem<2.1.0,>=2.0.2 in /usr/local/lib/python3.10/dist-packages (from spacy<3.7.0,>=3.6.0->de-core-news-lg==3.6.0) (2.0.8)\n",
      "Requirement already satisfied: preshed<3.1.0,>=3.0.2 in /usr/local/lib/python3.10/dist-packages (from spacy<3.7.0,>=3.6.0->de-core-news-lg==3.6.0) (3.0.9)\n",
      "Requirement already satisfied: thinc<8.2.0,>=8.1.8 in /usr/local/lib/python3.10/dist-packages (from spacy<3.7.0,>=3.6.0->de-core-news-lg==3.6.0) (8.1.12)\n",
      "Requirement already satisfied: wasabi<1.2.0,>=0.9.1 in /usr/local/lib/python3.10/dist-packages (from spacy<3.7.0,>=3.6.0->de-core-news-lg==3.6.0) (1.1.2)\n",
      "Requirement already satisfied: srsly<3.0.0,>=2.4.3 in /usr/local/lib/python3.10/dist-packages (from spacy<3.7.0,>=3.6.0->de-core-news-lg==3.6.0) (2.4.8)\n",
      "Requirement already satisfied: catalogue<2.1.0,>=2.0.6 in /usr/local/lib/python3.10/dist-packages (from spacy<3.7.0,>=3.6.0->de-core-news-lg==3.6.0) (2.0.10)\n",
      "Requirement already satisfied: typer<0.10.0,>=0.3.0 in /usr/local/lib/python3.10/dist-packages (from spacy<3.7.0,>=3.6.0->de-core-news-lg==3.6.0) (0.9.0)\n",
      "Requirement already satisfied: pathy>=0.10.0 in /usr/local/lib/python3.10/dist-packages (from spacy<3.7.0,>=3.6.0->de-core-news-lg==3.6.0) (0.11.0)\n",
      "Requirement already satisfied: smart-open<7.0.0,>=5.2.1 in /usr/local/lib/python3.10/dist-packages (from spacy<3.7.0,>=3.6.0->de-core-news-lg==3.6.0) (6.4.0)\n",
      "Requirement already satisfied: tqdm<5.0.0,>=4.38.0 in /usr/local/lib/python3.10/dist-packages (from spacy<3.7.0,>=3.6.0->de-core-news-lg==3.6.0) (4.66.1)\n",
      "Requirement already satisfied: numpy>=1.15.0 in /usr/local/lib/python3.10/dist-packages (from spacy<3.7.0,>=3.6.0->de-core-news-lg==3.6.0) (1.23.5)\n",
      "Requirement already satisfied: requests<3.0.0,>=2.13.0 in /usr/local/lib/python3.10/dist-packages (from spacy<3.7.0,>=3.6.0->de-core-news-lg==3.6.0) (2.31.0)\n",
      "Requirement already satisfied: pydantic!=1.8,!=1.8.1,<3.0.0,>=1.7.4 in /usr/local/lib/python3.10/dist-packages (from spacy<3.7.0,>=3.6.0->de-core-news-lg==3.6.0) (1.10.14)\n",
      "Requirement already satisfied: jinja2 in /usr/local/lib/python3.10/dist-packages (from spacy<3.7.0,>=3.6.0->de-core-news-lg==3.6.0) (3.1.3)\n",
      "Requirement already satisfied: setuptools in /usr/local/lib/python3.10/dist-packages (from spacy<3.7.0,>=3.6.0->de-core-news-lg==3.6.0) (67.7.2)\n",
      "Requirement already satisfied: packaging>=20.0 in /usr/local/lib/python3.10/dist-packages (from spacy<3.7.0,>=3.6.0->de-core-news-lg==3.6.0) (23.2)\n",
      "Requirement already satisfied: langcodes<4.0.0,>=3.2.0 in /usr/local/lib/python3.10/dist-packages (from spacy<3.7.0,>=3.6.0->de-core-news-lg==3.6.0) (3.3.0)\n",
      "Requirement already satisfied: pathlib-abc==0.1.1 in /usr/local/lib/python3.10/dist-packages (from pathy>=0.10.0->spacy<3.7.0,>=3.6.0->de-core-news-lg==3.6.0) (0.1.1)\n",
      "Requirement already satisfied: typing-extensions>=4.2.0 in /usr/local/lib/python3.10/dist-packages (from pydantic!=1.8,!=1.8.1,<3.0.0,>=1.7.4->spacy<3.7.0,>=3.6.0->de-core-news-lg==3.6.0) (4.5.0)\n",
      "Requirement already satisfied: charset-normalizer<4,>=2 in /usr/local/lib/python3.10/dist-packages (from requests<3.0.0,>=2.13.0->spacy<3.7.0,>=3.6.0->de-core-news-lg==3.6.0) (3.3.2)\n",
      "Requirement already satisfied: idna<4,>=2.5 in /usr/local/lib/python3.10/dist-packages (from requests<3.0.0,>=2.13.0->spacy<3.7.0,>=3.6.0->de-core-news-lg==3.6.0) (3.6)\n",
      "Requirement already satisfied: urllib3<3,>=1.21.1 in /usr/local/lib/python3.10/dist-packages (from requests<3.0.0,>=2.13.0->spacy<3.7.0,>=3.6.0->de-core-news-lg==3.6.0) (2.0.7)\n",
      "Requirement already satisfied: certifi>=2017.4.17 in /usr/local/lib/python3.10/dist-packages (from requests<3.0.0,>=2.13.0->spacy<3.7.0,>=3.6.0->de-core-news-lg==3.6.0) (2023.11.17)\n",
      "Requirement already satisfied: blis<0.8.0,>=0.7.8 in /usr/local/lib/python3.10/dist-packages (from thinc<8.2.0,>=8.1.8->spacy<3.7.0,>=3.6.0->de-core-news-lg==3.6.0) (0.7.11)\n",
      "Requirement already satisfied: confection<1.0.0,>=0.0.1 in /usr/local/lib/python3.10/dist-packages (from thinc<8.2.0,>=8.1.8->spacy<3.7.0,>=3.6.0->de-core-news-lg==3.6.0) (0.1.4)\n",
      "Requirement already satisfied: click<9.0.0,>=7.1.1 in /usr/local/lib/python3.10/dist-packages (from typer<0.10.0,>=0.3.0->spacy<3.7.0,>=3.6.0->de-core-news-lg==3.6.0) (8.1.7)\n",
      "Requirement already satisfied: MarkupSafe>=2.0 in /usr/local/lib/python3.10/dist-packages (from jinja2->spacy<3.7.0,>=3.6.0->de-core-news-lg==3.6.0) (2.1.4)\n",
      "\u001b[38;5;2m✔ Download and installation successful\u001b[0m\n",
      "You can now load the package via spacy.load('de_core_news_lg')\n"
     ]
    }
   ],
   "source": [
    "#!pip install transformers\n",
    "#!pip install spacy\n",
    "!python -m spacy download de_core_news_lg"
   ]
  },
  {
   "cell_type": "code",
   "execution_count": 19,
   "metadata": {
    "colab": {
     "base_uri": "https://localhost:8080/",
     "height": 302,
     "referenced_widgets": [
      "0cd2a771556f49d8aca2096971effc13",
      "9db18ea17ec440bda3e3815914e03107",
      "10be6300f0ca48769c14b937d93f5988",
      "b9c9cb48ab874680bdb793cf4782333f",
      "390b971a5cfc431f9ab44a532747a813",
      "b1ec9de3188844a7a97eafcd9de63248",
      "27d96f6cd8684a7c84eb9d27ba5e8dc7",
      "7e25875c71f1404aa3f37da213a57baa",
      "b5c4c699bad842abbdaa379e58974c9b",
      "53c3f335233844898a61b6e37148ad75",
      "68404fd744cd42bdb59a4b3e68519882",
      "ea1b25ce171d42ad825843a9f7c7e812",
      "73986497f4ca450f87795d68ac3fb544",
      "e9a99c3c96844a8ea50048d4b11b103b",
      "123f38553bb34455ace9d9d7ddbff779",
      "4e083aaddb5c4f518555dd2867f3fff3",
      "27033d42b0dd4605bec865e579c11eba"
     ]
    },
    "id": "N-dXdDZCRi6Y",
    "outputId": "42936ca7-4473-4698-d354-1f3e83e34053"
   },
   "outputs": [
    {
     "data": {
      "application/vnd.jupyter.widget-view+json": {
       "model_id": "0cd2a771556f49d8aca2096971effc13",
       "version_major": 2,
       "version_minor": 0
      },
      "text/plain": [
       "VBox(children=(HTML(value='<center> <img\\nsrc=https://huggingface.co/front/assets/huggingface_logo-noborder.sv…"
      ]
     },
     "metadata": {},
     "output_type": "display_data"
    }
   ],
   "source": [
    "import matplotlib.pyplot as plt\n",
    "import matplotlib.cm as cm"
   ]
  },
  {
   "cell_type": "code",
   "execution_count": 20,
   "metadata": {
    "id": "-ZXV7XgYRxEp"
   },
   "outputs": [],
   "source": [
    "import spacy\n",
    "nlp = spacy.load('de_core_news_lg', disable=['ner'])"
   ]
  },
  {
   "cell_type": "code",
   "execution_count": 1,
   "metadata": {
    "id": "V6vc3jpzLumv"
   },
   "outputs": [],
   "source": [
    "import pandas as pd\n",
    "from sklearn import metrics as sk_metrics\n",
    "from collections import Counter\n",
    "\n",
    "from tqdm import tqdm\n",
    "tqdm.pandas()\n",
    "\n",
    "from transformers import pipeline, AutoTokenizer, AutoModelForTokenClassification\n",
    "import torch\n",
    "\n",
    "from ast import literal_eval\n",
    "\n",
    "from IPython.display import display, Markdown"
   ]
  },
  {
   "cell_type": "code",
   "execution_count": 22,
   "metadata": {
    "id": "XLVFyyqViDWL"
   },
   "outputs": [],
   "source": [
    "def print_sentences(occupation, sample=-1, annotated_by=None):\n",
    "    speech_ids = exploded[exploded.tokens == occupation].speech_id.unique()\n",
    "    if (sample > 0) & (len(speech_ids) > sample):\n",
    "        filtered = speeches[speeches.speech_id.isin(speech_ids)].sample(n=sample)\n",
    "    else:\n",
    "        filtered = speeches[speeches.speech_id.isin(speech_ids)]\n",
    "    for i, row in filtered.iterrows():\n",
    "        for idx, t in enumerate(row.spacydoc):\n",
    "            if t.text == occupation:\n",
    "                is_relevant = False\n",
    "\n",
    "                sent = t.sent\n",
    "                start = sent.start\n",
    "                end = sent.end\n",
    "                bert_anno = row.BERT[start:end]\n",
    "                matcher_anno = row.matcher[start:end]\n",
    "                tokens = row.tokens[start:end]\n",
    "                lemma = [t.lemma_ for t in sent]\n",
    "\n",
    "                for t_i, t in enumerate(tokens):\n",
    "                    b_a = bert_anno[t_i]\n",
    "                    m_a = matcher_anno[t_i]\n",
    "\n",
    "                    if annotated_by == 'BERT':\n",
    "                        if (t == occupation) & (b_a == 1):\n",
    "                            is_relevant = True\n",
    "                    elif annotated_by == 'matcher':\n",
    "                        if (t == occupation) & (m_a == 1):\n",
    "                            is_relevant = True\n",
    "                    else:\n",
    "                        is_relevant = True\n",
    "\n",
    "                    if (b_a == 1) & (m_a == 1):\n",
    "                        tokens[t_i] = \"<font color='green'> {} </font>\".format(tokens[t_i])\n",
    "                        lemma[t_i] = \"<font color='green'> {} </font>\".format(lemma[t_i])\n",
    "                    elif (b_a == 1) & (m_a == 0):\n",
    "                        tokens[t_i] = \"<font color='orange'> {} </font>\".format(tokens[t_i])\n",
    "                        lemma[t_i] = \"<font color='orange'> {} </font>\".format(lemma[t_i])\n",
    "                    elif (b_a == 0) & (m_a == 1):\n",
    "                        tokens[t_i] = \"<font color='brown'> {} </font>\".format(tokens[t_i])\n",
    "                        lemma[t_i] = \"<font color='brown'> {} </font>\".format(lemma[t_i])\n",
    "                    elif (b_a == 0) & (m_a == 0) & (t == occupation):\n",
    "                        tokens[t_i] = \"<font color='red'> {} </font>\".format(tokens[t_i])\n",
    "                        lemma[t_i] = \"<font color='red'> {} </font>\".format(lemma[t_i])\n",
    "\n",
    "                if is_relevant == False:\n",
    "                    continue\n",
    "                print(i, row.speech_id)\n",
    "                display(Markdown(' '.join(tokens)))\n",
    "                print('predicted BERT:\\t\\t', bert_anno)\n",
    "                print('predicted Matcher:\\t', matcher_anno)\n",
    "\n",
    "                inputs = tokenizer(' '.join(row.tokens[start:end]), return_tensors=\"pt\")\n",
    "\n",
    "                with torch.no_grad():\n",
    "                    logits = model(**inputs).logits\n",
    "\n",
    "                predictions = torch.argmax(logits, dim=2)\n",
    "                predicted_token_class = [model.config.id2label[t.item()] for t in predictions[0]]\n",
    "\n",
    "                probs = logits.numpy()\n",
    "                res_tokens = tokenizer.convert_ids_to_tokens(inputs['input_ids'].flatten())\n",
    "                for i, t in enumerate(res_tokens):\n",
    "                    prob_o = probs[0,i,0]\n",
    "                    prob_prof = probs[0,i,1]\n",
    "                    prob_dif = prob_prof - prob_o\n",
    "                    print('{}\\t{}\\t{}\\t'.format(predicted_token_class[i], prob_dif, t))\n",
    "\n",
    "                print('###\\n\\n')"
   ]
  },
  {
   "cell_type": "code",
   "execution_count": 23,
   "metadata": {
    "id": "3UMx2O2sQEmI"
   },
   "outputs": [],
   "source": [
    "model_checkpoint = 'johannabi/german_tc_professions_debates'\n",
    "token_classifier = pipeline(\"token-classification\", model=model_checkpoint, aggregation_strategy=\"max\")#, use_auth_token=True)\n",
    "\n",
    "tokenizer = AutoTokenizer.from_pretrained(model_checkpoint)\n",
    "model = AutoModelForTokenClassification.from_pretrained(model_checkpoint)"
   ]
  },
  {
   "cell_type": "code",
   "execution_count": 24,
   "metadata": {
    "colab": {
     "base_uri": "https://localhost:8080/",
     "height": 225
    },
    "id": "yGFjIDSvMt8H",
    "outputId": "88b5adc0-5fec-4e40-86eb-50615ea5d717"
   },
   "outputs": [
    {
     "name": "stderr",
     "output_type": "stream",
     "text": [
      "2000it [01:07, 29.67it/s]\n"
     ]
    },
    {
     "data": {
      "text/html": [
       "\n",
       "  <div id=\"df-dc15bdea-a7fe-4897-9292-ef2575255e3d\" class=\"colab-df-container\">\n",
       "    <div>\n",
       "<style scoped>\n",
       "    .dataframe tbody tr th:only-of-type {\n",
       "        vertical-align: middle;\n",
       "    }\n",
       "\n",
       "    .dataframe tbody tr th {\n",
       "        vertical-align: top;\n",
       "    }\n",
       "\n",
       "    .dataframe thead th {\n",
       "        text-align: right;\n",
       "    }\n",
       "</style>\n",
       "<table border=\"1\" class=\"dataframe\">\n",
       "  <thead>\n",
       "    <tr style=\"text-align: right;\">\n",
       "      <th></th>\n",
       "      <th>speech_id</th>\n",
       "      <th>speech_content</th>\n",
       "      <th>tokens</th>\n",
       "      <th>speech_content.1</th>\n",
       "      <th>BERT</th>\n",
       "      <th>matcher</th>\n",
       "      <th>spacydoc</th>\n",
       "    </tr>\n",
       "  </thead>\n",
       "  <tbody>\n",
       "    <tr>\n",
       "      <th>0</th>\n",
       "      <td>742625</td>\n",
       "      <td>Sehr geehrter Herr Präsident! Liebe Kolleginne...</td>\n",
       "      <td>[Sehr, geehrter, Herr, Präsident, !, Liebe, Ko...</td>\n",
       "      <td>Sehr geehrter Herr Präsident! Liebe Kolleginne...</td>\n",
       "      <td>[0, 0, 0, 0, 0, 0, 0, 0, 0, 0, 0, 0, 0, 0, 0, ...</td>\n",
       "      <td>[0, 0, 0, 1, 0, 0, 0, 0, 0, 0, 0, 0, 0, 0, 0, ...</td>\n",
       "      <td>(Sehr, geehrter, Herr, Präsident, !, Liebe, Ko...</td>\n",
       "    </tr>\n",
       "    <tr>\n",
       "      <th>1</th>\n",
       "      <td>744419</td>\n",
       "      <td>Frau Präsidentin! Meine Damen und Herren! Wer ...</td>\n",
       "      <td>[Frau, Präsidentin, !, Meine, Damen, und, Herr...</td>\n",
       "      <td>Frau Präsidentin! Meine Damen und Herren! Wer ...</td>\n",
       "      <td>[0, 0, 0, 0, 0, 0, 0, 0, 0, 0, 0, 0, 0, 0, 0, ...</td>\n",
       "      <td>[0, 1, 0, 0, 0, 0, 0, 0, 0, 0, 0, 0, 0, 0, 0, ...</td>\n",
       "      <td>(Frau, Präsidentin, !, Meine, Damen, und, Herr...</td>\n",
       "    </tr>\n",
       "    <tr>\n",
       "      <th>2</th>\n",
       "      <td>742737</td>\n",
       "      <td>Sehr geehrte Frau Präsidentin! Sehr geehrte Ko...</td>\n",
       "      <td>[Sehr, geehrte, Frau, Präsidentin, !, Sehr, ge...</td>\n",
       "      <td>Sehr geehrte Frau Präsidentin! Sehr geehrte Ko...</td>\n",
       "      <td>[0, 0, 0, 0, 0, 0, 0, 0, 0, 0, 0, 0, 0, 0, 0, ...</td>\n",
       "      <td>[0, 0, 0, 1, 0, 0, 0, 0, 0, 0, 0, 0, 0, 0, 0, ...</td>\n",
       "      <td>(Sehr, geehrte, Frau, Präsidentin, !, Sehr, ge...</td>\n",
       "    </tr>\n",
       "    <tr>\n",
       "      <th>3</th>\n",
       "      <td>732664</td>\n",
       "      <td>Herr Kollege Krischer, die letzte Frage hat au...</td>\n",
       "      <td>[Herr, Kollege, Krischer, ,, die, letzte, Frag...</td>\n",
       "      <td>Herr Kollege Krischer, die letzte Frage hat au...</td>\n",
       "      <td>[0, 0, 0, 0, 0, 0, 0, 0, 0, 0, 0, 0, 0, 0, 0, ...</td>\n",
       "      <td>[0, 0, 0, 0, 0, 0, 0, 0, 0, 0, 0, 0, 0, 0, 0, ...</td>\n",
       "      <td>(Herr, Kollege, Krischer, ,, die, letzte, Frag...</td>\n",
       "    </tr>\n",
       "    <tr>\n",
       "      <th>4</th>\n",
       "      <td>740709</td>\n",
       "      <td>Herr Bundestagspräsident! Meine Damen und Herr...</td>\n",
       "      <td>[Herr, Bundestagspräsident, !, Meine, Damen, u...</td>\n",
       "      <td>Herr Bundestagspräsident! Meine Damen und Herr...</td>\n",
       "      <td>[0, 0, 0, 0, 0, 0, 0, 0, 0, 0, 0, 0, 0, 0, 0, ...</td>\n",
       "      <td>[0, 0, 0, 0, 0, 0, 0, 0, 0, 0, 0, 0, 0, 0, 0, ...</td>\n",
       "      <td>(Herr, Bundestagspräsident, !, Meine, Damen, u...</td>\n",
       "    </tr>\n",
       "  </tbody>\n",
       "</table>\n",
       "</div>\n",
       "    <div class=\"colab-df-buttons\">\n",
       "\n",
       "  <div class=\"colab-df-container\">\n",
       "    <button class=\"colab-df-convert\" onclick=\"convertToInteractive('df-dc15bdea-a7fe-4897-9292-ef2575255e3d')\"\n",
       "            title=\"Convert this dataframe to an interactive table.\"\n",
       "            style=\"display:none;\">\n",
       "\n",
       "  <svg xmlns=\"http://www.w3.org/2000/svg\" height=\"24px\" viewBox=\"0 -960 960 960\">\n",
       "    <path d=\"M120-120v-720h720v720H120Zm60-500h600v-160H180v160Zm220 220h160v-160H400v160Zm0 220h160v-160H400v160ZM180-400h160v-160H180v160Zm440 0h160v-160H620v160ZM180-180h160v-160H180v160Zm440 0h160v-160H620v160Z\"/>\n",
       "  </svg>\n",
       "    </button>\n",
       "\n",
       "  <style>\n",
       "    .colab-df-container {\n",
       "      display:flex;\n",
       "      gap: 12px;\n",
       "    }\n",
       "\n",
       "    .colab-df-convert {\n",
       "      background-color: #E8F0FE;\n",
       "      border: none;\n",
       "      border-radius: 50%;\n",
       "      cursor: pointer;\n",
       "      display: none;\n",
       "      fill: #1967D2;\n",
       "      height: 32px;\n",
       "      padding: 0 0 0 0;\n",
       "      width: 32px;\n",
       "    }\n",
       "\n",
       "    .colab-df-convert:hover {\n",
       "      background-color: #E2EBFA;\n",
       "      box-shadow: 0px 1px 2px rgba(60, 64, 67, 0.3), 0px 1px 3px 1px rgba(60, 64, 67, 0.15);\n",
       "      fill: #174EA6;\n",
       "    }\n",
       "\n",
       "    .colab-df-buttons div {\n",
       "      margin-bottom: 4px;\n",
       "    }\n",
       "\n",
       "    [theme=dark] .colab-df-convert {\n",
       "      background-color: #3B4455;\n",
       "      fill: #D2E3FC;\n",
       "    }\n",
       "\n",
       "    [theme=dark] .colab-df-convert:hover {\n",
       "      background-color: #434B5C;\n",
       "      box-shadow: 0px 1px 3px 1px rgba(0, 0, 0, 0.15);\n",
       "      filter: drop-shadow(0px 1px 2px rgba(0, 0, 0, 0.3));\n",
       "      fill: #FFFFFF;\n",
       "    }\n",
       "  </style>\n",
       "\n",
       "    <script>\n",
       "      const buttonEl =\n",
       "        document.querySelector('#df-dc15bdea-a7fe-4897-9292-ef2575255e3d button.colab-df-convert');\n",
       "      buttonEl.style.display =\n",
       "        google.colab.kernel.accessAllowed ? 'block' : 'none';\n",
       "\n",
       "      async function convertToInteractive(key) {\n",
       "        const element = document.querySelector('#df-dc15bdea-a7fe-4897-9292-ef2575255e3d');\n",
       "        const dataTable =\n",
       "          await google.colab.kernel.invokeFunction('convertToInteractive',\n",
       "                                                    [key], {});\n",
       "        if (!dataTable) return;\n",
       "\n",
       "        const docLinkHtml = 'Like what you see? Visit the ' +\n",
       "          '<a target=\"_blank\" href=https://colab.research.google.com/notebooks/data_table.ipynb>data table notebook</a>'\n",
       "          + ' to learn more about interactive tables.';\n",
       "        element.innerHTML = '';\n",
       "        dataTable['output_type'] = 'display_data';\n",
       "        await google.colab.output.renderOutput(dataTable, element);\n",
       "        const docLink = document.createElement('div');\n",
       "        docLink.innerHTML = docLinkHtml;\n",
       "        element.appendChild(docLink);\n",
       "      }\n",
       "    </script>\n",
       "  </div>\n",
       "\n",
       "\n",
       "<div id=\"df-ed1fc62d-e970-4e4f-8e54-88bf17d57a55\">\n",
       "  <button class=\"colab-df-quickchart\" onclick=\"quickchart('df-ed1fc62d-e970-4e4f-8e54-88bf17d57a55')\"\n",
       "            title=\"Suggest charts\"\n",
       "            style=\"display:none;\">\n",
       "\n",
       "<svg xmlns=\"http://www.w3.org/2000/svg\" height=\"24px\"viewBox=\"0 0 24 24\"\n",
       "     width=\"24px\">\n",
       "    <g>\n",
       "        <path d=\"M19 3H5c-1.1 0-2 .9-2 2v14c0 1.1.9 2 2 2h14c1.1 0 2-.9 2-2V5c0-1.1-.9-2-2-2zM9 17H7v-7h2v7zm4 0h-2V7h2v10zm4 0h-2v-4h2v4z\"/>\n",
       "    </g>\n",
       "</svg>\n",
       "  </button>\n",
       "\n",
       "<style>\n",
       "  .colab-df-quickchart {\n",
       "      --bg-color: #E8F0FE;\n",
       "      --fill-color: #1967D2;\n",
       "      --hover-bg-color: #E2EBFA;\n",
       "      --hover-fill-color: #174EA6;\n",
       "      --disabled-fill-color: #AAA;\n",
       "      --disabled-bg-color: #DDD;\n",
       "  }\n",
       "\n",
       "  [theme=dark] .colab-df-quickchart {\n",
       "      --bg-color: #3B4455;\n",
       "      --fill-color: #D2E3FC;\n",
       "      --hover-bg-color: #434B5C;\n",
       "      --hover-fill-color: #FFFFFF;\n",
       "      --disabled-bg-color: #3B4455;\n",
       "      --disabled-fill-color: #666;\n",
       "  }\n",
       "\n",
       "  .colab-df-quickchart {\n",
       "    background-color: var(--bg-color);\n",
       "    border: none;\n",
       "    border-radius: 50%;\n",
       "    cursor: pointer;\n",
       "    display: none;\n",
       "    fill: var(--fill-color);\n",
       "    height: 32px;\n",
       "    padding: 0;\n",
       "    width: 32px;\n",
       "  }\n",
       "\n",
       "  .colab-df-quickchart:hover {\n",
       "    background-color: var(--hover-bg-color);\n",
       "    box-shadow: 0 1px 2px rgba(60, 64, 67, 0.3), 0 1px 3px 1px rgba(60, 64, 67, 0.15);\n",
       "    fill: var(--button-hover-fill-color);\n",
       "  }\n",
       "\n",
       "  .colab-df-quickchart-complete:disabled,\n",
       "  .colab-df-quickchart-complete:disabled:hover {\n",
       "    background-color: var(--disabled-bg-color);\n",
       "    fill: var(--disabled-fill-color);\n",
       "    box-shadow: none;\n",
       "  }\n",
       "\n",
       "  .colab-df-spinner {\n",
       "    border: 2px solid var(--fill-color);\n",
       "    border-color: transparent;\n",
       "    border-bottom-color: var(--fill-color);\n",
       "    animation:\n",
       "      spin 1s steps(1) infinite;\n",
       "  }\n",
       "\n",
       "  @keyframes spin {\n",
       "    0% {\n",
       "      border-color: transparent;\n",
       "      border-bottom-color: var(--fill-color);\n",
       "      border-left-color: var(--fill-color);\n",
       "    }\n",
       "    20% {\n",
       "      border-color: transparent;\n",
       "      border-left-color: var(--fill-color);\n",
       "      border-top-color: var(--fill-color);\n",
       "    }\n",
       "    30% {\n",
       "      border-color: transparent;\n",
       "      border-left-color: var(--fill-color);\n",
       "      border-top-color: var(--fill-color);\n",
       "      border-right-color: var(--fill-color);\n",
       "    }\n",
       "    40% {\n",
       "      border-color: transparent;\n",
       "      border-right-color: var(--fill-color);\n",
       "      border-top-color: var(--fill-color);\n",
       "    }\n",
       "    60% {\n",
       "      border-color: transparent;\n",
       "      border-right-color: var(--fill-color);\n",
       "    }\n",
       "    80% {\n",
       "      border-color: transparent;\n",
       "      border-right-color: var(--fill-color);\n",
       "      border-bottom-color: var(--fill-color);\n",
       "    }\n",
       "    90% {\n",
       "      border-color: transparent;\n",
       "      border-bottom-color: var(--fill-color);\n",
       "    }\n",
       "  }\n",
       "</style>\n",
       "\n",
       "  <script>\n",
       "    async function quickchart(key) {\n",
       "      const quickchartButtonEl =\n",
       "        document.querySelector('#' + key + ' button');\n",
       "      quickchartButtonEl.disabled = true;  // To prevent multiple clicks.\n",
       "      quickchartButtonEl.classList.add('colab-df-spinner');\n",
       "      try {\n",
       "        const charts = await google.colab.kernel.invokeFunction(\n",
       "            'suggestCharts', [key], {});\n",
       "      } catch (error) {\n",
       "        console.error('Error during call to suggestCharts:', error);\n",
       "      }\n",
       "      quickchartButtonEl.classList.remove('colab-df-spinner');\n",
       "      quickchartButtonEl.classList.add('colab-df-quickchart-complete');\n",
       "    }\n",
       "    (() => {\n",
       "      let quickchartButtonEl =\n",
       "        document.querySelector('#df-ed1fc62d-e970-4e4f-8e54-88bf17d57a55 button');\n",
       "      quickchartButtonEl.style.display =\n",
       "        google.colab.kernel.accessAllowed ? 'block' : 'none';\n",
       "    })();\n",
       "  </script>\n",
       "</div>\n",
       "    </div>\n",
       "  </div>\n"
      ],
      "text/plain": [
       "   speech_id                                     speech_content  \\\n",
       "0     742625  Sehr geehrter Herr Präsident! Liebe Kolleginne...   \n",
       "1     744419  Frau Präsidentin! Meine Damen und Herren! Wer ...   \n",
       "2     742737  Sehr geehrte Frau Präsidentin! Sehr geehrte Ko...   \n",
       "3     732664  Herr Kollege Krischer, die letzte Frage hat au...   \n",
       "4     740709  Herr Bundestagspräsident! Meine Damen und Herr...   \n",
       "\n",
       "                                              tokens  \\\n",
       "0  [Sehr, geehrter, Herr, Präsident, !, Liebe, Ko...   \n",
       "1  [Frau, Präsidentin, !, Meine, Damen, und, Herr...   \n",
       "2  [Sehr, geehrte, Frau, Präsidentin, !, Sehr, ge...   \n",
       "3  [Herr, Kollege, Krischer, ,, die, letzte, Frag...   \n",
       "4  [Herr, Bundestagspräsident, !, Meine, Damen, u...   \n",
       "\n",
       "                                    speech_content.1  \\\n",
       "0  Sehr geehrter Herr Präsident! Liebe Kolleginne...   \n",
       "1  Frau Präsidentin! Meine Damen und Herren! Wer ...   \n",
       "2  Sehr geehrte Frau Präsidentin! Sehr geehrte Ko...   \n",
       "3  Herr Kollege Krischer, die letzte Frage hat au...   \n",
       "4  Herr Bundestagspräsident! Meine Damen und Herr...   \n",
       "\n",
       "                                                BERT  \\\n",
       "0  [0, 0, 0, 0, 0, 0, 0, 0, 0, 0, 0, 0, 0, 0, 0, ...   \n",
       "1  [0, 0, 0, 0, 0, 0, 0, 0, 0, 0, 0, 0, 0, 0, 0, ...   \n",
       "2  [0, 0, 0, 0, 0, 0, 0, 0, 0, 0, 0, 0, 0, 0, 0, ...   \n",
       "3  [0, 0, 0, 0, 0, 0, 0, 0, 0, 0, 0, 0, 0, 0, 0, ...   \n",
       "4  [0, 0, 0, 0, 0, 0, 0, 0, 0, 0, 0, 0, 0, 0, 0, ...   \n",
       "\n",
       "                                             matcher  \\\n",
       "0  [0, 0, 0, 1, 0, 0, 0, 0, 0, 0, 0, 0, 0, 0, 0, ...   \n",
       "1  [0, 1, 0, 0, 0, 0, 0, 0, 0, 0, 0, 0, 0, 0, 0, ...   \n",
       "2  [0, 0, 0, 1, 0, 0, 0, 0, 0, 0, 0, 0, 0, 0, 0, ...   \n",
       "3  [0, 0, 0, 0, 0, 0, 0, 0, 0, 0, 0, 0, 0, 0, 0, ...   \n",
       "4  [0, 0, 0, 0, 0, 0, 0, 0, 0, 0, 0, 0, 0, 0, 0, ...   \n",
       "\n",
       "                                            spacydoc  \n",
       "0  (Sehr, geehrter, Herr, Präsident, !, Liebe, Ko...  \n",
       "1  (Frau, Präsidentin, !, Meine, Damen, und, Herr...  \n",
       "2  (Sehr, geehrte, Frau, Präsidentin, !, Sehr, ge...  \n",
       "3  (Herr, Kollege, Krischer, ,, die, letzte, Frag...  \n",
       "4  (Herr, Bundestagspräsident, !, Meine, Damen, u...  "
      ]
     },
     "execution_count": 24,
     "metadata": {},
     "output_type": "execute_result"
    }
   ],
   "source": [
    "speeches = pd.read_csv('../data/speeches_2010_sample_result.csv', index_col=0)\n",
    "speeches['tokens'] = speeches['tokens'].apply(lambda x: literal_eval(x))\n",
    "speeches['matcher'] = speeches['matcher'].apply(lambda x: literal_eval(x))\n",
    "speeches['BERT'] = speeches['BERT'].apply(lambda x: literal_eval(x))\n",
    "speeches['spacydoc'] = [doc for doc in tqdm(nlp.pipe(speeches.speech_content))]\n",
    "speeches.head()"
   ]
  },
  {
   "cell_type": "code",
   "execution_count": 25,
   "metadata": {
    "colab": {
     "base_uri": "https://localhost:8080/"
    },
    "id": "XJ6BcJh5KGKA",
    "outputId": "8d8e146e-1158-44cd-a7e1-8bfb6041562a"
   },
   "outputs": [
    {
     "data": {
      "text/plain": [
       "array([[978242,   1324],\n",
       "       [  2100,   1185]])"
      ]
     },
     "execution_count": 25,
     "metadata": {},
     "output_type": "execute_result"
    }
   ],
   "source": [
    "exploded = speeches.explode(['matcher', 'BERT', 'tokens'])\n",
    "sk_metrics.confusion_matrix(list(exploded.matcher), list(exploded.BERT))"
   ]
  },
  {
   "cell_type": "code",
   "execution_count": 26,
   "metadata": {
    "colab": {
     "base_uri": "https://localhost:8080/"
    },
    "id": "ZvWTH-E1N4mS",
    "outputId": "857a9890-2e69-4753-f3e5-066c74725465"
   },
   "outputs": [
    {
     "data": {
      "text/plain": [
       "0    980342\n",
       "1      2509\n",
       "Name: BERT, dtype: int64"
      ]
     },
     "execution_count": 26,
     "metadata": {},
     "output_type": "execute_result"
    }
   ],
   "source": [
    "exploded.BERT.value_counts(dropna=False)"
   ]
  },
  {
   "cell_type": "code",
   "execution_count": 27,
   "metadata": {
    "colab": {
     "base_uri": "https://localhost:8080/"
    },
    "id": "t3dyaJr4N_rr",
    "outputId": "75125c4d-c3a4-4eab-c99b-fdcde62d40d4"
   },
   "outputs": [
    {
     "data": {
      "text/plain": [
       "0    979566\n",
       "1      3285\n",
       "Name: matcher, dtype: int64"
      ]
     },
     "execution_count": 27,
     "metadata": {},
     "output_type": "execute_result"
    }
   ],
   "source": [
    "exploded.matcher.value_counts(dropna=False)"
   ]
  },
  {
   "cell_type": "code",
   "execution_count": 28,
   "metadata": {
    "colab": {
     "base_uri": "https://localhost:8080/"
    },
    "id": "St3pvdasQwvC",
    "outputId": "a9b04449-c238-489b-d101-fcd21ce0bf85"
   },
   "outputs": [
    {
     "data": {
      "text/plain": [
       "991"
      ]
     },
     "execution_count": 28,
     "metadata": {},
     "output_type": "execute_result"
    }
   ],
   "source": [
    "bert_annotated = list()\n",
    "matcher_annotated = list()\n",
    "all_tokens = list()\n",
    "\n",
    "for t, b, m in zip(exploded.tokens, exploded.BERT, exploded.matcher):\n",
    "    all_tokens.append(t)\n",
    "    if b == 1:\n",
    "        bert_annotated.append(t)\n",
    "    if m == 1:\n",
    "        matcher_annotated.append(t)\n",
    "\n",
    "bert_counter = Counter(bert_annotated)\n",
    "matcher_counter = Counter(matcher_annotated)\n",
    "all_counter = Counter(all_tokens)\n",
    "all_occupations = set(bert_annotated).union(matcher_annotated)\n",
    "len(all_occupations)"
   ]
  },
  {
   "cell_type": "code",
   "execution_count": 29,
   "metadata": {
    "id": "CYP7XSXvQ7jn"
   },
   "outputs": [],
   "source": [
    "\n",
    "\n",
    "tuples = list()\n",
    "for occ in all_occupations:\n",
    "    tuples.append((occ, all_counter[occ], bert_counter[occ], matcher_counter[occ], bert_counter[occ] - matcher_counter[occ]))\n",
    "comp_df = pd.DataFrame(tuples, columns=['occupation', 'in_corpus', 'bert', 'matcher', 'div'])\n",
    "comp_df.set_index('occupation', drop=True, inplace=True)\n",
    "\n",
    "# Daten sortieren und die Top 30 auswählen\n",
    "most_common_bert = comp_df.sort_values('bert', ascending=True).tail(30)\n",
    "most_common_matcher = comp_df.sort_values('matcher', ascending=True).tail(30)\n",
    "\n",
    "# Breite der Balken\n",
    "bar_width = 0.6  # Passen Sie den Wert nach Bedarf an\n",
    "figsize=(5, 7)\n",
    "\n",
    "# RGB-Werte für Grautöne\n",
    "color_matcher = (0.17, 1.0, 0.22)  # gruen für 'matcher'\n",
    "color_bert = (0.25, 0.2, 1.0)  # blau für 'bert'\n",
    "color_in_corpus = (1.0, 0.22, 0.33)  # rot für 'in_corpus'"
   ]
  },
  {
   "cell_type": "code",
   "execution_count": 30,
   "metadata": {
    "colab": {
     "base_uri": "https://localhost:8080/",
     "height": 707
    },
    "id": "vB7vBXShkUTx",
    "outputId": "42e5a2a6-728f-46d4-ec05-f73b725d2da0"
   },
   "outputs": [
    {
     "data": {
      "image/png": "[encoded data removed]",
      "text/plain": [
       "<Figure size 500x700 with 1 Axes>"
      ]
     },
     "metadata": {},
     "output_type": "display_data"
    }
   ],
   "source": [
    "# Plot für Most Common BERT\n",
    "ax1 = most_common_bert[['bert', 'matcher', 'in_corpus']].plot(kind='barh', width=bar_width, ylabel='Type',\n",
    "                                                              title='Most Common BERT', color=[color_bert, color_matcher, color_in_corpus],\n",
    "                                                              figsize=figsize)\n",
    "ax1.set(xlabel='#matches')\n",
    "ax1.margins(x=0.1)\n",
    "ax1.legend(title='Models', loc='lower right', bbox_to_anchor=(1, 0))\n",
    "plt.tight_layout()\n",
    "plt.savefig('most_common_bert.png', bbox_inches='tight')\n",
    "plt.show()"
   ]
  },
  {
   "cell_type": "code",
   "execution_count": 34,
   "metadata": {
    "colab": {
     "base_uri": "https://localhost:8080/",
     "height": 707
    },
    "id": "-daYZ3bCQs0F",
    "outputId": "38a3c116-fb40-44b1-acdb-8f5b54422cb1"
   },
   "outputs": [
    {
     "data": {
      "image/png": "[encoded data removed]",
      "text/plain": [
       "<Figure size 500x700 with 1 Axes>"
      ]
     },
     "metadata": {},
     "output_type": "display_data"
    }
   ],
   "source": [
    "# Plot für Most Common PhraseMatcher\n",
    "ax2 = most_common_matcher[['bert', 'matcher', 'in_corpus']].plot(kind='barh', width=bar_width, ylabel='Type',\n",
    "                                                                 title='Most Common PhraseMatcher', color=[color_bert, color_matcher, color_in_corpus],\n",
    "                                                                 figsize=figsize)\n",
    "ax2.set(xlabel='#matches')\n",
    "ax2.margins(x=0.1)\n",
    "ax2.legend(title='Models', loc='lower right', bbox_to_anchor=(1, 0))\n",
    "plt.tight_layout()\n",
    "plt.savefig('most_common_matcher.png', bbox_inches='tight')\n",
    "plt.show()"
   ]
  },
  {
   "cell_type": "code",
   "execution_count": 37,
   "metadata": {
    "colab": {
     "base_uri": "https://localhost:8080/",
     "height": 1000
    },
    "id": "vICXIRzZiMm7",
    "outputId": "b9905cb2-a123-4b4c-9e1d-7e97bfa6c373"
   },
   "outputs": [
    {
     "name": "stdout",
     "output_type": "stream",
     "text": [
      "1375 741025\n"
     ]
    },
    {
     "data": {
      "text/markdown": [
       "Die Hauptkritik , die ich für meine Fraktion und auch für meine Arbeitsgruppe äußern möchte , betrifft einen Punkt , der heute schon den einen oder anderen <font color='brown'> Redner </font> beschäftigt hat ."
      ],
      "text/plain": [
       "<IPython.core.display.Markdown object>"
      ]
     },
     "metadata": {},
     "output_type": "display_data"
    },
    {
     "name": "stdout",
     "output_type": "stream",
     "text": [
      "predicted BERT:\t\t [0, 0, 0, 0, 0, 0, 0, 0, 0, 0, 0, 0, 0, 0, 0, 0, 0, 0, 0, 0, 0, 0, 0, 0, 0, 0, 0, 0, 0, 0, 0]\n",
      "predicted Matcher:\t [0, 0, 0, 0, 0, 0, 0, 0, 0, 0, 0, 0, 0, 0, 0, 0, 0, 0, 0, 0, 0, 0, 0, 0, 0, 0, 0, 1, 0, 0, 0]\n",
      "O\t-9.98386287689209\t[CLS]\t\n",
      "O\t-10.66395378112793\tDie\t\n",
      "O\t-9.769132614135742\tHaupt\t\n",
      "O\t-8.70833969116211\t##kritik\t\n",
      "O\t-10.71231460571289\t,\t\n",
      "O\t-10.48592472076416\tdie\t\n",
      "O\t-9.870189666748047\tich\t\n",
      "O\t-9.669095993041992\tfür\t\n",
      "O\t-9.19890022277832\tmeine\t\n",
      "O\t-5.88210916519165\tFraktion\t\n",
      "O\t-10.178406715393066\tund\t\n",
      "O\t-10.332521438598633\tauch\t\n",
      "O\t-9.571854591369629\tfür\t\n",
      "O\t-9.229562759399414\tmeine\t\n",
      "O\t-6.11811637878418\tArbeitsgruppe\t\n",
      "O\t-10.543571472167969\täußern\t\n",
      "O\t-10.777807235717773\tmöchte\t\n",
      "O\t-10.864420890808105\t,\t\n",
      "O\t-10.667943000793457\tbetrifft\t\n",
      "O\t-10.085714340209961\teinen\t\n",
      "O\t-9.05313491821289\tPunkt\t\n",
      "O\t-10.16158676147461\t,\t\n",
      "O\t-10.100346565246582\tder\t\n",
      "O\t-10.112288475036621\theute\t\n",
      "O\t-10.045658111572266\tschon\t\n",
      "O\t-8.420695304870605\tden\t\n",
      "O\t-8.226404190063477\teinen\t\n",
      "O\t-9.40388011932373\toder\t\n",
      "O\t-7.872523784637451\tanderen\t\n",
      "O\t-3.0673391819000244\tRed\t\n",
      "O\t-1.4713096618652344\t##ner\t\n",
      "O\t-9.008454322814941\tbeschäftigt\t\n",
      "O\t-9.993156433105469\that\t\n",
      "O\t-10.449352264404297\t.\t\n",
      "O\t-8.118093490600586\t[SEP]\t\n",
      "###\n",
      "\n",
      "\n",
      "1719 746967\n"
     ]
    },
    {
     "data": {
      "text/markdown": [
       "Ich kann mich dem Lob anschließen , das hier einige <font color='brown'> Redner </font> schon zum Ausdruck gebracht haben ."
      ],
      "text/plain": [
       "<IPython.core.display.Markdown object>"
      ]
     },
     "metadata": {},
     "output_type": "display_data"
    },
    {
     "name": "stdout",
     "output_type": "stream",
     "text": [
      "predicted BERT:\t\t [0, 0, 0, 0, 0, 0, 0, 0, 0, 0, 0, 0, 0, 0, 0, 0, 0]\n",
      "predicted Matcher:\t [0, 0, 0, 0, 0, 0, 0, 0, 0, 0, 1, 0, 0, 0, 0, 0, 0]\n",
      "O\t-9.665616989135742\t[CLS]\t\n",
      "O\t-9.983819007873535\tIch\t\n",
      "O\t-10.460126876831055\tkann\t\n",
      "O\t-10.491665840148926\tmich\t\n",
      "O\t-10.160667419433594\tdem\t\n",
      "O\t-8.655763626098633\tLob\t\n",
      "O\t-10.467660903930664\tanschließen\t\n",
      "O\t-10.956343650817871\t,\t\n",
      "O\t-10.123489379882812\tdas\t\n",
      "O\t-10.28068733215332\thier\t\n",
      "O\t-8.068153381347656\teinige\t\n",
      "O\t-1.5386714935302734\tRed\t\n",
      "O\t-0.3240165114402771\t##ner\t\n",
      "O\t-9.76190185546875\tschon\t\n",
      "O\t-10.0963134765625\tzum\t\n",
      "O\t-10.241203308105469\tAusdruck\t\n",
      "O\t-10.478026390075684\tgebracht\t\n",
      "O\t-9.777143478393555\thaben\t\n",
      "O\t-10.289674758911133\t.\t\n",
      "O\t-8.144135475158691\t[SEP]\t\n",
      "###\n",
      "\n",
      "\n",
      "674 732033\n"
     ]
    },
    {
     "data": {
      "text/markdown": [
       "Wenn man die <font color='green'> Rednerinnen </font> und <font color='green'> Redner </font> der Opposition hört , dann hat man den Eindruck , sie seien heilfroh , dass sie nicht in der Verantwortung stehen ."
      ],
      "text/plain": [
       "<IPython.core.display.Markdown object>"
      ]
     },
     "metadata": {},
     "output_type": "display_data"
    },
    {
     "name": "stdout",
     "output_type": "stream",
     "text": [
      "predicted BERT:\t\t [0, 0, 0, 1, 0, 1, 0, 0, 0, 0, 0, 0, 0, 0, 0, 0, 0, 0, 0, 0, 0, 0, 0, 0, 0, 0, 0, 0]\n",
      "predicted Matcher:\t [0, 0, 0, 1, 0, 1, 0, 0, 0, 0, 0, 0, 0, 0, 0, 0, 0, 0, 0, 0, 0, 0, 0, 0, 0, 0, 0, 0]\n",
      "O\t-8.462418556213379\t[CLS]\t\n",
      "O\t-10.093812942504883\tWenn\t\n",
      "O\t-9.714523315429688\tman\t\n",
      "O\t-7.080796241760254\tdie\t\n",
      "O\t-0.2824784517288208\tRed\t\n",
      "B-PROF\t1.7962862253189087\t##ner\t\n",
      "B-PROF\t1.770897626876831\t##innen\t\n",
      "O\t-6.09326171875\tund\t\n",
      "O\t-0.559844970703125\tRed\t\n",
      "B-PROF\t1.3379504680633545\t##ner\t\n",
      "O\t-6.7649383544921875\tder\t\n",
      "O\t-3.7469804286956787\tOpposition\t\n",
      "O\t-9.437663078308105\thört\t\n",
      "O\t-10.55436897277832\t,\t\n",
      "O\t-10.218099594116211\tdann\t\n",
      "O\t-10.07657241821289\that\t\n",
      "O\t-9.805192947387695\tman\t\n",
      "O\t-9.630664825439453\tden\t\n",
      "O\t-9.902006149291992\tEindruck\t\n",
      "O\t-10.02676773071289\t,\t\n",
      "O\t-6.584395885467529\tsie\t\n",
      "O\t-8.548617362976074\tseien\t\n",
      "O\t-8.123650550842285\theil\t\n",
      "O\t-8.27751350402832\t##fr\t\n",
      "O\t-7.842353343963623\t##o\t\n",
      "O\t-7.765928745269775\t##h\t\n",
      "O\t-9.756366729736328\t,\t\n",
      "O\t-9.886844635009766\tdass\t\n",
      "O\t-7.512509346008301\tsie\t\n",
      "O\t-10.448356628417969\tnicht\t\n",
      "O\t-10.104061126708984\tin\t\n",
      "O\t-9.685480117797852\tder\t\n",
      "O\t-9.21645450592041\tVerantwortung\t\n",
      "O\t-9.821159362792969\tstehen\t\n",
      "O\t-10.283123016357422\t.\t\n",
      "O\t-7.540450096130371\t[SEP]\t\n",
      "###\n",
      "\n",
      "\n",
      "1498 733048\n"
     ]
    },
    {
     "data": {
      "text/markdown": [
       "Alle <font color='green'> Redner </font> und <font color='orange'> Rednerinnen </font> hier und heute haben versichert :"
      ],
      "text/plain": [
       "<IPython.core.display.Markdown object>"
      ]
     },
     "metadata": {},
     "output_type": "display_data"
    },
    {
     "name": "stdout",
     "output_type": "stream",
     "text": [
      "predicted BERT:\t\t [0, 1, 0, 1, 0, 0, 0, 0, 0, 0]\n",
      "predicted Matcher:\t [0, 1, 0, 0, 0, 0, 0, 0, 0, 0]\n",
      "O\t-8.08206844329834\t[CLS]\t\n",
      "O\t-7.774007797241211\tAlle\t\n",
      "B-PROF\t0.18998754024505615\tRed\t\n",
      "B-PROF\t2.097695827484131\t##ner\t\n",
      "O\t-6.135158061981201\tund\t\n",
      "O\t-0.08373129367828369\tRed\t\n",
      "B-PROF\t1.5558887720108032\t##ner\t\n",
      "B-PROF\t1.7555556297302246\t##innen\t\n",
      "O\t-7.148386478424072\thier\t\n",
      "O\t-9.43942928314209\tund\t\n",
      "O\t-8.59262466430664\theute\t\n",
      "O\t-8.283506393432617\thaben\t\n",
      "O\t-8.47193431854248\tversichert\t\n",
      "O\t-9.300390243530273\t:\t\n",
      "O\t-7.053218364715576\t[SEP]\t\n",
      "###\n",
      "\n",
      "\n",
      "506 746904\n"
     ]
    },
    {
     "data": {
      "text/markdown": [
       "Darauf ist im Übrigen kein <font color='brown'> Redner </font> der Koalitionsfraktionen eingegangen ."
      ],
      "text/plain": [
       "<IPython.core.display.Markdown object>"
      ]
     },
     "metadata": {},
     "output_type": "display_data"
    },
    {
     "name": "stdout",
     "output_type": "stream",
     "text": [
      "predicted BERT:\t\t [0, 0, 0, 0, 0, 0, 0, 0, 0, 0]\n",
      "predicted Matcher:\t [0, 0, 0, 0, 0, 1, 0, 0, 0, 0]\n",
      "O\t-8.244464874267578\t[CLS]\t\n",
      "O\t-9.583389282226562\tDarauf\t\n",
      "O\t-8.71200180053711\tist\t\n",
      "O\t-9.962583541870117\tim\t\n",
      "O\t-9.415898323059082\tÜbrigen\t\n",
      "O\t-7.802816867828369\tkein\t\n",
      "O\t-2.094792604446411\tRed\t\n",
      "O\t-0.7570240497589111\t##ner\t\n",
      "O\t-7.334971904754639\tder\t\n",
      "O\t-5.756607532501221\tKoalitions\t\n",
      "O\t-5.66070556640625\t##fraktion\t\n",
      "O\t-6.248568058013916\t##en\t\n",
      "O\t-9.001760482788086\teingegangen\t\n",
      "O\t-8.955402374267578\t.\t\n",
      "O\t-7.403435707092285\t[SEP]\t\n",
      "###\n",
      "\n",
      "\n",
      "1110 741571\n"
     ]
    },
    {
     "data": {
      "text/markdown": [
       "Ich   finde es bemerkenswert , dass wir die Diskussion offenbar so reflexhaft miteinander führen können , dass man , Frau Höll , bereits im Vorhinein auf einen nachfolgenden <font color='brown'> Redner </font> eingehen kann ;"
      ],
      "text/plain": [
       "<IPython.core.display.Markdown object>"
      ]
     },
     "metadata": {},
     "output_type": "display_data"
    },
    {
     "name": "stdout",
     "output_type": "stream",
     "text": [
      "predicted BERT:\t\t [0, 0, 0, 0, 0, 0, 0, 0, 0, 0, 0, 0, 0, 0, 0, 0, 0, 0, 0, 0, 0, 0, 0, 0, 0, 0, 0, 0, 0, 0, 0, 0, 0]\n",
      "predicted Matcher:\t [0, 0, 0, 0, 0, 0, 0, 0, 0, 0, 0, 0, 0, 0, 0, 0, 0, 0, 0, 0, 0, 0, 0, 0, 0, 0, 0, 0, 0, 1, 0, 0, 0]\n",
      "O\t-9.93254566192627\t[CLS]\t\n",
      "O\t-10.456363677978516\tIch\t\n",
      "O\t-10.639272689819336\tfinde\t\n",
      "O\t-10.806123733520508\tes\t\n",
      "O\t-10.402278900146484\tbemerken\t\n",
      "O\t-10.47932243347168\t##swert\t\n",
      "O\t-11.217819213867188\t,\t\n",
      "O\t-11.136207580566406\tdass\t\n",
      "O\t-10.787796020507812\twir\t\n",
      "O\t-10.787863731384277\tdie\t\n",
      "O\t-8.569506645202637\tDiskussion\t\n",
      "O\t-11.13667106628418\toffenbar\t\n",
      "O\t-10.935600280761719\tso\t\n",
      "O\t-10.776079177856445\tre\t\n",
      "O\t-10.732555389404297\t##flex\t\n",
      "O\t-11.117630958557129\t##haft\t\n",
      "O\t-11.23196029663086\tmiteinander\t\n",
      "O\t-10.985408782958984\tführen\t\n",
      "O\t-11.124214172363281\tkönnen\t\n",
      "O\t-11.198259353637695\t,\t\n",
      "O\t-11.070001602172852\tdass\t\n",
      "O\t-9.924260139465332\tman\t\n",
      "O\t-7.560753345489502\t,\t\n",
      "O\t-5.268913745880127\tFrau\t\n",
      "O\t-4.909685134887695\tHö\t\n",
      "O\t-4.8907470703125\t##ll\t\n",
      "O\t-6.792690753936768\t,\t\n",
      "O\t-10.134601593017578\tbereits\t\n",
      "O\t-10.591987609863281\tim\t\n",
      "O\t-10.336292266845703\tVor\t\n",
      "O\t-10.386198997497559\t##hinein\t\n",
      "O\t-10.1202974319458\tauf\t\n",
      "O\t-8.571035385131836\teinen\t\n",
      "O\t-7.414032936096191\tnachfolgenden\t\n",
      "O\t-2.441265344619751\tRed\t\n",
      "O\t-1.06227445602417\t##ner\t\n",
      "O\t-10.492618560791016\teingehen\t\n",
      "O\t-10.817296028137207\tkann\t\n",
      "O\t-10.954580307006836\t;\t\n",
      "O\t-7.955466270446777\t[SEP]\t\n",
      "###\n",
      "\n",
      "\n",
      "1203 748884\n"
     ]
    },
    {
     "data": {
      "text/markdown": [
       "Was mich bei SPD und Linken besonders enttäuscht hat : Keiner der beiden <font color='brown'> Redner </font> , weder Frau Tackmann noch Herr Schwanitz , ist auf die Ursachen eingegangen ."
      ],
      "text/plain": [
       "<IPython.core.display.Markdown object>"
      ]
     },
     "metadata": {},
     "output_type": "display_data"
    },
    {
     "name": "stdout",
     "output_type": "stream",
     "text": [
      "predicted BERT:\t\t [0, 0, 0, 0, 0, 0, 0, 0, 0, 0, 0, 0, 0, 0, 0, 0, 0, 0, 0, 0, 0, 0, 0, 0, 0, 0, 0, 0]\n",
      "predicted Matcher:\t [0, 0, 0, 0, 0, 0, 0, 0, 0, 0, 0, 0, 0, 1, 0, 0, 0, 0, 0, 0, 0, 0, 0, 0, 0, 0, 0, 0]\n",
      "O\t-8.976171493530273\t[CLS]\t\n",
      "O\t-10.501806259155273\tWas\t\n",
      "O\t-8.992650032043457\tmich\t\n",
      "O\t-8.646650314331055\tbei\t\n",
      "O\t-5.389093399047852\tSPD\t\n",
      "O\t-8.44337272644043\tund\t\n",
      "O\t-4.888413429260254\tLinken\t\n",
      "O\t-10.378641128540039\tbesonders\t\n",
      "O\t-9.819694519042969\tenttäuscht\t\n",
      "O\t-10.280128479003906\that\t\n",
      "O\t-9.937498092651367\t:\t\n",
      "O\t-7.94964599609375\tKeine\t\n",
      "O\t-6.595293045043945\t##r\t\n",
      "O\t-6.04993200302124\tder\t\n",
      "O\t-5.473638534545898\tbeiden\t\n",
      "O\t-2.058429718017578\tRed\t\n",
      "O\t-0.3781293034553528\t##ner\t\n",
      "O\t-8.083949089050293\t,\t\n",
      "O\t-8.299395561218262\tweder\t\n",
      "O\t-5.664774417877197\tFrau\t\n",
      "O\t-6.00078010559082\tTa\t\n",
      "O\t-5.8701558113098145\t##ck\t\n",
      "O\t-5.378739356994629\t##mann\t\n",
      "O\t-8.48108196258545\tnoch\t\n",
      "O\t-7.454483985900879\tHerr\t\n",
      "O\t-5.501149654388428\tSchwa\t\n",
      "O\t-5.878812789916992\t##nitz\t\n",
      "O\t-8.468090057373047\t,\t\n",
      "O\t-8.890144348144531\tist\t\n",
      "O\t-9.520729064941406\tauf\t\n",
      "O\t-9.131991386413574\tdie\t\n",
      "O\t-8.202315330505371\tUrsachen\t\n",
      "O\t-9.233449935913086\teingegangen\t\n",
      "O\t-9.883428573608398\t.\t\n",
      "O\t-7.963286399841309\t[SEP]\t\n",
      "###\n",
      "\n",
      "\n",
      "23 746766\n"
     ]
    },
    {
     "data": {
      "text/markdown": [
       "Ich bin mittlerweile zu der Überzeugung gekommen , dass Sie eine fraktionsinterne Wette laufen haben , bei der es darum geht , dass jeder <font color='brown'> Redner </font> von Ihnen - ganz egal , zu welchem Thema Sie sprechen - einige Vokabeln verwenden muss ."
      ],
      "text/plain": [
       "<IPython.core.display.Markdown object>"
      ]
     },
     "metadata": {},
     "output_type": "display_data"
    },
    {
     "name": "stdout",
     "output_type": "stream",
     "text": [
      "predicted BERT:\t\t [0, 0, 0, 0, 0, 0, 0, 0, 0, 0, 0, 0, 0, 0, 0, 0, 0, 0, 0, 0, 0, 0, 0, 0, 0, 0, 0, 0, 0, 0, 0, 0, 0, 0, 0, 0, 0, 0, 0, 0, 0, 0]\n",
      "predicted Matcher:\t [0, 0, 0, 0, 0, 0, 0, 0, 0, 0, 0, 0, 0, 0, 0, 0, 0, 0, 0, 0, 0, 0, 0, 0, 1, 0, 0, 0, 0, 0, 0, 0, 0, 0, 0, 0, 0, 0, 0, 0, 0, 0]\n",
      "O\t-9.859187126159668\t[CLS]\t\n",
      "O\t-10.30146312713623\tIch\t\n",
      "O\t-10.461206436157227\tbin\t\n",
      "O\t-10.694918632507324\tmittlerweile\t\n",
      "O\t-10.475214958190918\tzu\t\n",
      "O\t-10.198266983032227\tder\t\n",
      "O\t-10.219087600708008\tÜberzeugung\t\n",
      "O\t-10.57125473022461\tgekommen\t\n",
      "O\t-11.20716667175293\t,\t\n",
      "O\t-10.989160537719727\tdass\t\n",
      "O\t-10.408829689025879\tSie\t\n",
      "O\t-10.512924194335938\teine\t\n",
      "O\t-4.96295166015625\tfra\t\n",
      "O\t-6.177165508270264\t##ktions\t\n",
      "O\t-9.978631019592285\t##intern\t\n",
      "O\t-10.049708366394043\t##e\t\n",
      "O\t-9.203279495239258\tWett\t\n",
      "O\t-9.67994499206543\t##e\t\n",
      "O\t-10.45903205871582\tlaufen\t\n",
      "O\t-10.577153205871582\thaben\t\n",
      "O\t-11.136702537536621\t,\t\n",
      "O\t-10.737346649169922\tbei\t\n",
      "O\t-10.842734336853027\tder\t\n",
      "O\t-10.980756759643555\tes\t\n",
      "O\t-10.7408447265625\tdarum\t\n",
      "O\t-10.969572067260742\tgeht\t\n",
      "O\t-11.183465957641602\t,\t\n",
      "O\t-10.69750690460205\tdass\t\n",
      "O\t-8.884897232055664\tjeder\t\n",
      "O\t-1.2284936904907227\tRed\t\n",
      "O\t-0.006348609924316406\t##ner\t\n",
      "O\t-7.437138557434082\tvon\t\n",
      "O\t-8.442007064819336\tIhnen\t\n",
      "O\t-8.76397705078125\t-\t\n",
      "O\t-10.726470947265625\tganz\t\n",
      "O\t-10.28845500946045\tegal\t\n",
      "O\t-9.597692489624023\t,\t\n",
      "O\t-9.58581256866455\tzu\t\n",
      "O\t-9.314742088317871\twelchem\t\n",
      "O\t-8.353758811950684\tThema\t\n",
      "O\t-9.409327507019043\tSie\t\n",
      "O\t-8.637811660766602\tsprechen\t\n",
      "O\t-10.328214645385742\t-\t\n",
      "O\t-9.820699691772461\teinige\t\n",
      "O\t-7.544679641723633\tVo\t\n",
      "O\t-7.286375045776367\t##kab\t\n",
      "O\t-8.088068962097168\t##eln\t\n",
      "O\t-9.522706031799316\tverwenden\t\n",
      "O\t-10.70276165008545\tmuss\t\n",
      "O\t-10.781966209411621\t.\t\n",
      "O\t-8.226860046386719\t[SEP]\t\n",
      "###\n",
      "\n",
      "\n",
      "203 736862\n"
     ]
    },
    {
     "data": {
      "text/markdown": [
       "Auch der Entwicklungsminister hat dies gefordert - einige <font color='brown'> Redner </font> haben es schon gesagt - , ebenso , wie ich glaube , die meisten Kollegen aus dem Entwicklungsausschuss ."
      ],
      "text/plain": [
       "<IPython.core.display.Markdown object>"
      ]
     },
     "metadata": {},
     "output_type": "display_data"
    },
    {
     "name": "stdout",
     "output_type": "stream",
     "text": [
      "predicted BERT:\t\t [0, 0, 0, 0, 0, 0, 0, 0, 0, 0, 0, 0, 0, 0, 0, 0, 0, 0, 0, 0, 0, 0, 0, 0, 0, 0, 0, 0]\n",
      "predicted Matcher:\t [0, 0, 0, 0, 0, 0, 0, 0, 1, 0, 0, 0, 0, 0, 0, 0, 0, 0, 0, 0, 0, 0, 0, 0, 0, 0, 0, 0]\n",
      "O\t-9.231311798095703\t[CLS]\t\n",
      "O\t-9.726470947265625\tAuch\t\n",
      "O\t-8.13206958770752\tder\t\n",
      "O\t-2.4957163333892822\tEntwicklungs\t\n",
      "O\t-2.195159673690796\t##minister\t\n",
      "O\t-10.163655281066895\that\t\n",
      "O\t-10.601567268371582\tdies\t\n",
      "O\t-10.923385620117188\tgefordert\t\n",
      "O\t-9.79114055633545\t-\t\n",
      "O\t-8.52160930633545\teinige\t\n",
      "O\t-1.440258264541626\tRed\t\n",
      "O\t-0.5412484407424927\t##ner\t\n",
      "O\t-9.29814338684082\thaben\t\n",
      "O\t-10.499722480773926\tes\t\n",
      "O\t-10.450579643249512\tschon\t\n",
      "O\t-10.925875663757324\tgesagt\t\n",
      "O\t-9.777883529663086\t-\t\n",
      "O\t-7.90409517288208\t,\t\n",
      "O\t-9.645139694213867\tebenso\t\n",
      "O\t-8.58993148803711\t,\t\n",
      "O\t-9.86144733428955\twie\t\n",
      "O\t-8.689581871032715\tich\t\n",
      "O\t-9.594200134277344\tglaube\t\n",
      "O\t-9.38879680633545\t,\t\n",
      "O\t-8.906970977783203\tdie\t\n",
      "O\t-8.414693832397461\tmeisten\t\n",
      "O\t-3.3131723403930664\tKollegen\t\n",
      "O\t-6.126503944396973\taus\t\n",
      "O\t-7.583697319030762\tdem\t\n",
      "O\t-5.341848373413086\tEntwicklungs\t\n",
      "O\t-6.125579833984375\t##ausschuss\t\n",
      "O\t-9.484556198120117\t.\t\n",
      "O\t-8.12425422668457\t[SEP]\t\n",
      "###\n",
      "\n",
      "\n",
      "1592 735402\n"
     ]
    },
    {
     "data": {
      "text/markdown": [
       "Als letzter <font color='brown'> Redner </font> zu dem Haushalt für Arbeit und Soziales möchte ich zusammenfassend sagen , dass die Bundesregierung mit diesem Haushalt ihrer sozialen Verantwortung besonders gerecht wird ."
      ],
      "text/plain": [
       "<IPython.core.display.Markdown object>"
      ]
     },
     "metadata": {},
     "output_type": "display_data"
    },
    {
     "name": "stdout",
     "output_type": "stream",
     "text": [
      "predicted BERT:\t\t [0, 0, 0, 0, 0, 0, 0, 0, 0, 0, 0, 0, 0, 0, 0, 0, 0, 0, 0, 0, 0, 0, 0, 0, 0, 0, 0, 0]\n",
      "predicted Matcher:\t [0, 0, 1, 0, 0, 0, 0, 0, 0, 0, 0, 0, 0, 0, 0, 0, 0, 0, 0, 0, 0, 0, 0, 0, 0, 0, 0, 0]\n",
      "O\t-9.398448944091797\t[CLS]\t\n",
      "O\t-8.880291938781738\tAls\t\n",
      "O\t-8.131084442138672\tletzter\t\n",
      "O\t-5.364444732666016\tRed\t\n",
      "O\t-3.2805211544036865\t##ner\t\n",
      "O\t-10.256306648254395\tzu\t\n",
      "O\t-9.929204940795898\tdem\t\n",
      "O\t-7.793244361877441\tHaushalt\t\n",
      "O\t-8.768001556396484\tfür\t\n",
      "O\t-7.994882583618164\tArbeit\t\n",
      "O\t-9.860031127929688\tund\t\n",
      "O\t-8.104743957519531\tSozial\t\n",
      "O\t-8.713905334472656\t##es\t\n",
      "O\t-10.600099563598633\tmöchte\t\n",
      "O\t-9.988564491271973\tich\t\n",
      "O\t-10.871695518493652\tzusammen\t\n",
      "O\t-10.68544864654541\t##fassen\t\n",
      "O\t-10.758058547973633\t##d\t\n",
      "O\t-10.89089584350586\tsagen\t\n",
      "O\t-11.207380294799805\t,\t\n",
      "O\t-11.017610549926758\tdass\t\n",
      "O\t-9.763211250305176\tdie\t\n",
      "O\t-5.882334232330322\tBundesregierung\t\n",
      "O\t-10.394706726074219\tmit\t\n",
      "O\t-10.223899841308594\tdiesem\t\n",
      "O\t-8.310022354125977\tHaushalt\t\n",
      "O\t-10.274914741516113\tihrer\t\n",
      "O\t-9.666112899780273\tsozialen\t\n",
      "O\t-9.256193161010742\tVerantwortung\t\n",
      "O\t-11.166204452514648\tbesonders\t\n",
      "O\t-10.773019790649414\tgerecht\t\n",
      "O\t-11.329254150390625\twird\t\n",
      "O\t-11.196555137634277\t.\t\n",
      "O\t-8.518115997314453\t[SEP]\t\n",
      "###\n",
      "\n",
      "\n"
     ]
    }
   ],
   "source": [
    "print_sentences('Redner', 10, None)"
   ]
  },
  {
   "cell_type": "code",
   "execution_count": 33,
   "metadata": {
    "colab": {
     "base_uri": "https://localhost:8080/",
     "height": 409
    },
    "id": "l491m4oQQo7c",
    "outputId": "89af3adc-68dc-4ae0-bf8d-7fe918ec743d"
   },
   "outputs": [
    {
     "ename": "KeyError",
     "evalue": "\"['occupation'] not in index\"",
     "output_type": "error",
     "traceback": [
      "\u001b[0;31m---------------------------------------------------------------------------\u001b[0m",
      "\u001b[0;31mKeyError\u001b[0m                                  Traceback (most recent call last)",
      "\u001b[0;32m<ipython-input-33-8deb2e26f4b5>\u001b[0m in \u001b[0;36m<cell line: 2>\u001b[0;34m()\u001b[0m\n\u001b[1;32m      1\u001b[0m \u001b[0mcomp_df\u001b[0m \u001b[0;34m=\u001b[0m \u001b[0mcomp_df\u001b[0m\u001b[0;34m.\u001b[0m\u001b[0msort_values\u001b[0m\u001b[0;34m(\u001b[0m\u001b[0;34m'div'\u001b[0m\u001b[0;34m)\u001b[0m\u001b[0;34m\u001b[0m\u001b[0;34m\u001b[0m\u001b[0m\n\u001b[0;32m----> 2\u001b[0;31m \u001b[0mmelt_df\u001b[0m \u001b[0;34m=\u001b[0m \u001b[0mpd\u001b[0m\u001b[0;34m.\u001b[0m\u001b[0mmelt\u001b[0m\u001b[0;34m(\u001b[0m\u001b[0mcomp_df\u001b[0m\u001b[0;34m[\u001b[0m\u001b[0;34m[\u001b[0m\u001b[0;34m'occupation'\u001b[0m\u001b[0;34m,\u001b[0m \u001b[0;34m'in_corpus'\u001b[0m\u001b[0;34m,\u001b[0m \u001b[0;34m'bert'\u001b[0m\u001b[0;34m,\u001b[0m \u001b[0;34m'matcher'\u001b[0m\u001b[0;34m]\u001b[0m\u001b[0;34m]\u001b[0m\u001b[0;34m,\u001b[0m \u001b[0mid_vars\u001b[0m\u001b[0;34m=\u001b[0m\u001b[0;34m[\u001b[0m\u001b[0;34m'occupation'\u001b[0m\u001b[0;34m]\u001b[0m\u001b[0;34m,\u001b[0m \u001b[0mvar_name\u001b[0m\u001b[0;34m=\u001b[0m\u001b[0;34m[\u001b[0m\u001b[0;34m'model'\u001b[0m\u001b[0;34m]\u001b[0m\u001b[0;34m,\u001b[0m \u001b[0mvalue_name\u001b[0m\u001b[0;34m=\u001b[0m\u001b[0;34m'count'\u001b[0m\u001b[0;34m)\u001b[0m\u001b[0;34m\u001b[0m\u001b[0;34m\u001b[0m\u001b[0m\n\u001b[0m\u001b[1;32m      3\u001b[0m \u001b[0;34m\u001b[0m\u001b[0m\n\u001b[1;32m      4\u001b[0m fig = px.bar(melt_df, x=\"occupation\", color=\"model\",\n\u001b[1;32m      5\u001b[0m              \u001b[0my\u001b[0m\u001b[0;34m=\u001b[0m\u001b[0;34m'count'\u001b[0m\u001b[0;34m,\u001b[0m\u001b[0;34m\u001b[0m\u001b[0;34m\u001b[0m\u001b[0m\n",
      "\u001b[0;32m/usr/local/lib/python3.10/dist-packages/pandas/core/frame.py\u001b[0m in \u001b[0;36m__getitem__\u001b[0;34m(self, key)\u001b[0m\n\u001b[1;32m   3811\u001b[0m             \u001b[0;32mif\u001b[0m \u001b[0mis_iterator\u001b[0m\u001b[0;34m(\u001b[0m\u001b[0mkey\u001b[0m\u001b[0;34m)\u001b[0m\u001b[0;34m:\u001b[0m\u001b[0;34m\u001b[0m\u001b[0;34m\u001b[0m\u001b[0m\n\u001b[1;32m   3812\u001b[0m                 \u001b[0mkey\u001b[0m \u001b[0;34m=\u001b[0m \u001b[0mlist\u001b[0m\u001b[0;34m(\u001b[0m\u001b[0mkey\u001b[0m\u001b[0;34m)\u001b[0m\u001b[0;34m\u001b[0m\u001b[0;34m\u001b[0m\u001b[0m\n\u001b[0;32m-> 3813\u001b[0;31m             \u001b[0mindexer\u001b[0m \u001b[0;34m=\u001b[0m \u001b[0mself\u001b[0m\u001b[0;34m.\u001b[0m\u001b[0mcolumns\u001b[0m\u001b[0;34m.\u001b[0m\u001b[0m_get_indexer_strict\u001b[0m\u001b[0;34m(\u001b[0m\u001b[0mkey\u001b[0m\u001b[0;34m,\u001b[0m \u001b[0;34m\"columns\"\u001b[0m\u001b[0;34m)\u001b[0m\u001b[0;34m[\u001b[0m\u001b[0;36m1\u001b[0m\u001b[0;34m]\u001b[0m\u001b[0;34m\u001b[0m\u001b[0;34m\u001b[0m\u001b[0m\n\u001b[0m\u001b[1;32m   3814\u001b[0m \u001b[0;34m\u001b[0m\u001b[0m\n\u001b[1;32m   3815\u001b[0m         \u001b[0;31m# take() does not accept boolean indexers\u001b[0m\u001b[0;34m\u001b[0m\u001b[0;34m\u001b[0m\u001b[0m\n",
      "\u001b[0;32m/usr/local/lib/python3.10/dist-packages/pandas/core/indexes/base.py\u001b[0m in \u001b[0;36m_get_indexer_strict\u001b[0;34m(self, key, axis_name)\u001b[0m\n\u001b[1;32m   6068\u001b[0m             \u001b[0mkeyarr\u001b[0m\u001b[0;34m,\u001b[0m \u001b[0mindexer\u001b[0m\u001b[0;34m,\u001b[0m \u001b[0mnew_indexer\u001b[0m \u001b[0;34m=\u001b[0m \u001b[0mself\u001b[0m\u001b[0;34m.\u001b[0m\u001b[0m_reindex_non_unique\u001b[0m\u001b[0;34m(\u001b[0m\u001b[0mkeyarr\u001b[0m\u001b[0;34m)\u001b[0m\u001b[0;34m\u001b[0m\u001b[0;34m\u001b[0m\u001b[0m\n\u001b[1;32m   6069\u001b[0m \u001b[0;34m\u001b[0m\u001b[0m\n\u001b[0;32m-> 6070\u001b[0;31m         \u001b[0mself\u001b[0m\u001b[0;34m.\u001b[0m\u001b[0m_raise_if_missing\u001b[0m\u001b[0;34m(\u001b[0m\u001b[0mkeyarr\u001b[0m\u001b[0;34m,\u001b[0m \u001b[0mindexer\u001b[0m\u001b[0;34m,\u001b[0m \u001b[0maxis_name\u001b[0m\u001b[0;34m)\u001b[0m\u001b[0;34m\u001b[0m\u001b[0;34m\u001b[0m\u001b[0m\n\u001b[0m\u001b[1;32m   6071\u001b[0m \u001b[0;34m\u001b[0m\u001b[0m\n\u001b[1;32m   6072\u001b[0m         \u001b[0mkeyarr\u001b[0m \u001b[0;34m=\u001b[0m \u001b[0mself\u001b[0m\u001b[0;34m.\u001b[0m\u001b[0mtake\u001b[0m\u001b[0;34m(\u001b[0m\u001b[0mindexer\u001b[0m\u001b[0;34m)\u001b[0m\u001b[0;34m\u001b[0m\u001b[0;34m\u001b[0m\u001b[0m\n",
      "\u001b[0;32m/usr/local/lib/python3.10/dist-packages/pandas/core/indexes/base.py\u001b[0m in \u001b[0;36m_raise_if_missing\u001b[0;34m(self, key, indexer, axis_name)\u001b[0m\n\u001b[1;32m   6131\u001b[0m \u001b[0;34m\u001b[0m\u001b[0m\n\u001b[1;32m   6132\u001b[0m             \u001b[0mnot_found\u001b[0m \u001b[0;34m=\u001b[0m \u001b[0mlist\u001b[0m\u001b[0;34m(\u001b[0m\u001b[0mensure_index\u001b[0m\u001b[0;34m(\u001b[0m\u001b[0mkey\u001b[0m\u001b[0;34m)\u001b[0m\u001b[0;34m[\u001b[0m\u001b[0mmissing_mask\u001b[0m\u001b[0;34m.\u001b[0m\u001b[0mnonzero\u001b[0m\u001b[0;34m(\u001b[0m\u001b[0;34m)\u001b[0m\u001b[0;34m[\u001b[0m\u001b[0;36m0\u001b[0m\u001b[0;34m]\u001b[0m\u001b[0;34m]\u001b[0m\u001b[0;34m.\u001b[0m\u001b[0munique\u001b[0m\u001b[0;34m(\u001b[0m\u001b[0;34m)\u001b[0m\u001b[0;34m)\u001b[0m\u001b[0;34m\u001b[0m\u001b[0;34m\u001b[0m\u001b[0m\n\u001b[0;32m-> 6133\u001b[0;31m             \u001b[0;32mraise\u001b[0m \u001b[0mKeyError\u001b[0m\u001b[0;34m(\u001b[0m\u001b[0;34mf\"{not_found} not in index\"\u001b[0m\u001b[0;34m)\u001b[0m\u001b[0;34m\u001b[0m\u001b[0;34m\u001b[0m\u001b[0m\n\u001b[0m\u001b[1;32m   6134\u001b[0m \u001b[0;34m\u001b[0m\u001b[0m\n\u001b[1;32m   6135\u001b[0m     \u001b[0;34m@\u001b[0m\u001b[0moverload\u001b[0m\u001b[0;34m\u001b[0m\u001b[0;34m\u001b[0m\u001b[0m\n",
      "\u001b[0;31mKeyError\u001b[0m: \"['occupation'] not in index\""
     ]
    }
   ],
   "source": [
    "comp_df = comp_df.sort_values('div')\n",
    "melt_df = pd.melt(comp_df[['occupation', 'in_corpus', 'bert', 'matcher']], id_vars=['occupation'], var_name=['model'], value_name='count')\n",
    "\n",
    "fig = px.bar(melt_df, x=\"occupation\", color=\"model\",\n",
    "             y='count',\n",
    "             title=\"A Grouped Bar Chart With Plotly Express in Python\",\n",
    "             barmode='group',\n",
    "             height=600,\n",
    "             log_y=True\n",
    "            )\n",
    "\n",
    "fig.write_html(\"/content/drive/MyDrive/PromotionDaten/TriDokSe5/speeches_2010_sample2_result.html\")"
   ]
  }
 ],
 "metadata": {
  "colab": {
   "authorship_tag": "ABX9TyMeTA+ha/0gktUgcCTBkDRd",
   "mount_file_id": "https://github.com/johannabi/ProfessionRecognition/blob/main/06_Analyze_Application.ipynb",
   "provenance": []
  },
  "kernelspec": {
   "display_name": "Python 3 (ipykernel)",
   "language": "python",
   "name": "python3"
  },
  "language_info": {
   "codemirror_mode": {
    "name": "ipython",
    "version": 3
   },
   "file_extension": ".py",
   "mimetype": "text/x-python",
   "name": "python",
   "nbconvert_exporter": "python",
   "pygments_lexer": "ipython3",
   "version": "3.8.16"
  },
  "widgets": {
   "application/vnd.jupyter.widget-state+json": {
    "0cd2a771556f49d8aca2096971effc13": {
     "model_module": "@jupyter-widgets/controls",
     "model_module_version": "1.5.0",
     "model_name": "VBoxModel",
     "state": {
      "_dom_classes": [],
      "_model_module": "@jupyter-widgets/controls",
      "_model_module_version": "1.5.0",
      "_model_name": "VBoxModel",
      "_view_count": null,
      "_view_module": "@jupyter-widgets/controls",
      "_view_module_version": "1.5.0",
      "_view_name": "VBoxView",
      "box_style": "",
      "children": [
       "IPY_MODEL_9db18ea17ec440bda3e3815914e03107",
       "IPY_MODEL_10be6300f0ca48769c14b937d93f5988",
       "IPY_MODEL_b9c9cb48ab874680bdb793cf4782333f",
       "IPY_MODEL_390b971a5cfc431f9ab44a532747a813",
       "IPY_MODEL_b1ec9de3188844a7a97eafcd9de63248"
      ],
      "layout": "IPY_MODEL_27d96f6cd8684a7c84eb9d27ba5e8dc7"
     }
    },
    "10be6300f0ca48769c14b937d93f5988": {
     "model_module": "@jupyter-widgets/controls",
     "model_module_version": "1.5.0",
     "model_name": "PasswordModel",
     "state": {
      "_dom_classes": [],
      "_model_module": "@jupyter-widgets/controls",
      "_model_module_version": "1.5.0",
      "_model_name": "PasswordModel",
      "_view_count": null,
      "_view_module": "@jupyter-widgets/controls",
      "_view_module_version": "1.5.0",
      "_view_name": "PasswordView",
      "continuous_update": true,
      "description": "Token:",
      "description_tooltip": null,
      "disabled": false,
      "layout": "IPY_MODEL_53c3f335233844898a61b6e37148ad75",
      "placeholder": "​",
      "style": "IPY_MODEL_68404fd744cd42bdb59a4b3e68519882",
      "value": ""
     }
    },
    "123f38553bb34455ace9d9d7ddbff779": {
     "model_module": "@jupyter-widgets/controls",
     "model_module_version": "1.5.0",
     "model_name": "ButtonStyleModel",
     "state": {
      "_model_module": "@jupyter-widgets/controls",
      "_model_module_version": "1.5.0",
      "_model_name": "ButtonStyleModel",
      "_view_count": null,
      "_view_module": "@jupyter-widgets/base",
      "_view_module_version": "1.2.0",
      "_view_name": "StyleView",
      "button_color": null,
      "font_weight": ""
     }
    },
    "27033d42b0dd4605bec865e579c11eba": {
     "model_module": "@jupyter-widgets/controls",
     "model_module_version": "1.5.0",
     "model_name": "DescriptionStyleModel",
     "state": {
      "_model_module": "@jupyter-widgets/controls",
      "_model_module_version": "1.5.0",
      "_model_name": "DescriptionStyleModel",
      "_view_count": null,
      "_view_module": "@jupyter-widgets/base",
      "_view_module_version": "1.2.0",
      "_view_name": "StyleView",
      "description_width": ""
     }
    },
    "27d96f6cd8684a7c84eb9d27ba5e8dc7": {
     "model_module": "@jupyter-widgets/base",
     "model_module_version": "1.2.0",
     "model_name": "LayoutModel",
     "state": {
      "_model_module": "@jupyter-widgets/base",
      "_model_module_version": "1.2.0",
      "_model_name": "LayoutModel",
      "_view_count": null,
      "_view_module": "@jupyter-widgets/base",
      "_view_module_version": "1.2.0",
      "_view_name": "LayoutView",
      "align_content": null,
      "align_items": "center",
      "align_self": null,
      "border": null,
      "bottom": null,
      "display": "flex",
      "flex": null,
      "flex_flow": "column",
      "grid_area": null,
      "grid_auto_columns": null,
      "grid_auto_flow": null,
      "grid_auto_rows": null,
      "grid_column": null,
      "grid_gap": null,
      "grid_row": null,
      "grid_template_areas": null,
      "grid_template_columns": null,
      "grid_template_rows": null,
      "height": null,
      "justify_content": null,
      "justify_items": null,
      "left": null,
      "margin": null,
      "max_height": null,
      "max_width": null,
      "min_height": null,
      "min_width": null,
      "object_fit": null,
      "object_position": null,
      "order": null,
      "overflow": null,
      "overflow_x": null,
      "overflow_y": null,
      "padding": null,
      "right": null,
      "top": null,
      "visibility": null,
      "width": "50%"
     }
    },
    "390b971a5cfc431f9ab44a532747a813": {
     "model_module": "@jupyter-widgets/controls",
     "model_module_version": "1.5.0",
     "model_name": "ButtonModel",
     "state": {
      "_dom_classes": [],
      "_model_module": "@jupyter-widgets/controls",
      "_model_module_version": "1.5.0",
      "_model_name": "ButtonModel",
      "_view_count": null,
      "_view_module": "@jupyter-widgets/controls",
      "_view_module_version": "1.5.0",
      "_view_name": "ButtonView",
      "button_style": "",
      "description": "Login",
      "disabled": false,
      "icon": "",
      "layout": "IPY_MODEL_e9a99c3c96844a8ea50048d4b11b103b",
      "style": "IPY_MODEL_123f38553bb34455ace9d9d7ddbff779",
      "tooltip": ""
     }
    },
    "4e083aaddb5c4f518555dd2867f3fff3": {
     "model_module": "@jupyter-widgets/base",
     "model_module_version": "1.2.0",
     "model_name": "LayoutModel",
     "state": {
      "_model_module": "@jupyter-widgets/base",
      "_model_module_version": "1.2.0",
      "_model_name": "LayoutModel",
      "_view_count": null,
      "_view_module": "@jupyter-widgets/base",
      "_view_module_version": "1.2.0",
      "_view_name": "LayoutView",
      "align_content": null,
      "align_items": null,
      "align_self": null,
      "border": null,
      "bottom": null,
      "display": null,
      "flex": null,
      "flex_flow": null,
      "grid_area": null,
      "grid_auto_columns": null,
      "grid_auto_flow": null,
      "grid_auto_rows": null,
      "grid_column": null,
      "grid_gap": null,
      "grid_row": null,
      "grid_template_areas": null,
      "grid_template_columns": null,
      "grid_template_rows": null,
      "height": null,
      "justify_content": null,
      "justify_items": null,
      "left": null,
      "margin": null,
      "max_height": null,
      "max_width": null,
      "min_height": null,
      "min_width": null,
      "object_fit": null,
      "object_position": null,
      "order": null,
      "overflow": null,
      "overflow_x": null,
      "overflow_y": null,
      "padding": null,
      "right": null,
      "top": null,
      "visibility": null,
      "width": null
     }
    },
    "53c3f335233844898a61b6e37148ad75": {
     "model_module": "@jupyter-widgets/base",
     "model_module_version": "1.2.0",
     "model_name": "LayoutModel",
     "state": {
      "_model_module": "@jupyter-widgets/base",
      "_model_module_version": "1.2.0",
      "_model_name": "LayoutModel",
      "_view_count": null,
      "_view_module": "@jupyter-widgets/base",
      "_view_module_version": "1.2.0",
      "_view_name": "LayoutView",
      "align_content": null,
      "align_items": null,
      "align_self": null,
      "border": null,
      "bottom": null,
      "display": null,
      "flex": null,
      "flex_flow": null,
      "grid_area": null,
      "grid_auto_columns": null,
      "grid_auto_flow": null,
      "grid_auto_rows": null,
      "grid_column": null,
      "grid_gap": null,
      "grid_row": null,
      "grid_template_areas": null,
      "grid_template_columns": null,
      "grid_template_rows": null,
      "height": null,
      "justify_content": null,
      "justify_items": null,
      "left": null,
      "margin": null,
      "max_height": null,
      "max_width": null,
      "min_height": null,
      "min_width": null,
      "object_fit": null,
      "object_position": null,
      "order": null,
      "overflow": null,
      "overflow_x": null,
      "overflow_y": null,
      "padding": null,
      "right": null,
      "top": null,
      "visibility": null,
      "width": null
     }
    },
    "68404fd744cd42bdb59a4b3e68519882": {
     "model_module": "@jupyter-widgets/controls",
     "model_module_version": "1.5.0",
     "model_name": "DescriptionStyleModel",
     "state": {
      "_model_module": "@jupyter-widgets/controls",
      "_model_module_version": "1.5.0",
      "_model_name": "DescriptionStyleModel",
      "_view_count": null,
      "_view_module": "@jupyter-widgets/base",
      "_view_module_version": "1.2.0",
      "_view_name": "StyleView",
      "description_width": ""
     }
    },
    "73986497f4ca450f87795d68ac3fb544": {
     "model_module": "@jupyter-widgets/controls",
     "model_module_version": "1.5.0",
     "model_name": "DescriptionStyleModel",
     "state": {
      "_model_module": "@jupyter-widgets/controls",
      "_model_module_version": "1.5.0",
      "_model_name": "DescriptionStyleModel",
      "_view_count": null,
      "_view_module": "@jupyter-widgets/base",
      "_view_module_version": "1.2.0",
      "_view_name": "StyleView",
      "description_width": ""
     }
    },
    "7e25875c71f1404aa3f37da213a57baa": {
     "model_module": "@jupyter-widgets/base",
     "model_module_version": "1.2.0",
     "model_name": "LayoutModel",
     "state": {
      "_model_module": "@jupyter-widgets/base",
      "_model_module_version": "1.2.0",
      "_model_name": "LayoutModel",
      "_view_count": null,
      "_view_module": "@jupyter-widgets/base",
      "_view_module_version": "1.2.0",
      "_view_name": "LayoutView",
      "align_content": null,
      "align_items": null,
      "align_self": null,
      "border": null,
      "bottom": null,
      "display": null,
      "flex": null,
      "flex_flow": null,
      "grid_area": null,
      "grid_auto_columns": null,
      "grid_auto_flow": null,
      "grid_auto_rows": null,
      "grid_column": null,
      "grid_gap": null,
      "grid_row": null,
      "grid_template_areas": null,
      "grid_template_columns": null,
      "grid_template_rows": null,
      "height": null,
      "justify_content": null,
      "justify_items": null,
      "left": null,
      "margin": null,
      "max_height": null,
      "max_width": null,
      "min_height": null,
      "min_width": null,
      "object_fit": null,
      "object_position": null,
      "order": null,
      "overflow": null,
      "overflow_x": null,
      "overflow_y": null,
      "padding": null,
      "right": null,
      "top": null,
      "visibility": null,
      "width": null
     }
    },
    "9db18ea17ec440bda3e3815914e03107": {
     "model_module": "@jupyter-widgets/controls",
     "model_module_version": "1.5.0",
     "model_name": "HTMLModel",
     "state": {
      "_dom_classes": [],
      "_model_module": "@jupyter-widgets/controls",
      "_model_module_version": "1.5.0",
      "_model_name": "HTMLModel",
      "_view_count": null,
      "_view_module": "@jupyter-widgets/controls",
      "_view_module_version": "1.5.0",
      "_view_name": "HTMLView",
      "description": "",
      "description_tooltip": null,
      "layout": "IPY_MODEL_7e25875c71f1404aa3f37da213a57baa",
      "placeholder": "​",
      "style": "IPY_MODEL_b5c4c699bad842abbdaa379e58974c9b",
      "value": "<center> <img\nsrc=https://huggingface.co/front/assets/huggingface_logo-noborder.svg\nalt='Hugging Face'> <br> Copy a token from <a\nhref=\"https://huggingface.co/settings/tokens\" target=\"_blank\">your Hugging Face\ntokens page</a> and paste it below. <br> Immediately click login after copying\nyour token or it might be stored in plain text in this notebook file. </center>"
     }
    },
    "b1ec9de3188844a7a97eafcd9de63248": {
     "model_module": "@jupyter-widgets/controls",
     "model_module_version": "1.5.0",
     "model_name": "HTMLModel",
     "state": {
      "_dom_classes": [],
      "_model_module": "@jupyter-widgets/controls",
      "_model_module_version": "1.5.0",
      "_model_name": "HTMLModel",
      "_view_count": null,
      "_view_module": "@jupyter-widgets/controls",
      "_view_module_version": "1.5.0",
      "_view_name": "HTMLView",
      "description": "",
      "description_tooltip": null,
      "layout": "IPY_MODEL_4e083aaddb5c4f518555dd2867f3fff3",
      "placeholder": "​",
      "style": "IPY_MODEL_27033d42b0dd4605bec865e579c11eba",
      "value": "\n<b>Pro Tip:</b> If you don't already have one, you can create a dedicated\n'notebooks' token with 'write' access, that you can then easily reuse for all\nnotebooks. </center>"
     }
    },
    "b5c4c699bad842abbdaa379e58974c9b": {
     "model_module": "@jupyter-widgets/controls",
     "model_module_version": "1.5.0",
     "model_name": "DescriptionStyleModel",
     "state": {
      "_model_module": "@jupyter-widgets/controls",
      "_model_module_version": "1.5.0",
      "_model_name": "DescriptionStyleModel",
      "_view_count": null,
      "_view_module": "@jupyter-widgets/base",
      "_view_module_version": "1.2.0",
      "_view_name": "StyleView",
      "description_width": ""
     }
    },
    "b9c9cb48ab874680bdb793cf4782333f": {
     "model_module": "@jupyter-widgets/controls",
     "model_module_version": "1.5.0",
     "model_name": "CheckboxModel",
     "state": {
      "_dom_classes": [],
      "_model_module": "@jupyter-widgets/controls",
      "_model_module_version": "1.5.0",
      "_model_name": "CheckboxModel",
      "_view_count": null,
      "_view_module": "@jupyter-widgets/controls",
      "_view_module_version": "1.5.0",
      "_view_name": "CheckboxView",
      "description": "Add token as git credential?",
      "description_tooltip": null,
      "disabled": false,
      "indent": true,
      "layout": "IPY_MODEL_ea1b25ce171d42ad825843a9f7c7e812",
      "style": "IPY_MODEL_73986497f4ca450f87795d68ac3fb544",
      "value": true
     }
    },
    "e9a99c3c96844a8ea50048d4b11b103b": {
     "model_module": "@jupyter-widgets/base",
     "model_module_version": "1.2.0",
     "model_name": "LayoutModel",
     "state": {
      "_model_module": "@jupyter-widgets/base",
      "_model_module_version": "1.2.0",
      "_model_name": "LayoutModel",
      "_view_count": null,
      "_view_module": "@jupyter-widgets/base",
      "_view_module_version": "1.2.0",
      "_view_name": "LayoutView",
      "align_content": null,
      "align_items": null,
      "align_self": null,
      "border": null,
      "bottom": null,
      "display": null,
      "flex": null,
      "flex_flow": null,
      "grid_area": null,
      "grid_auto_columns": null,
      "grid_auto_flow": null,
      "grid_auto_rows": null,
      "grid_column": null,
      "grid_gap": null,
      "grid_row": null,
      "grid_template_areas": null,
      "grid_template_columns": null,
      "grid_template_rows": null,
      "height": null,
      "justify_content": null,
      "justify_items": null,
      "left": null,
      "margin": null,
      "max_height": null,
      "max_width": null,
      "min_height": null,
      "min_width": null,
      "object_fit": null,
      "object_position": null,
      "order": null,
      "overflow": null,
      "overflow_x": null,
      "overflow_y": null,
      "padding": null,
      "right": null,
      "top": null,
      "visibility": null,
      "width": null
     }
    },
    "ea1b25ce171d42ad825843a9f7c7e812": {
     "model_module": "@jupyter-widgets/base",
     "model_module_version": "1.2.0",
     "model_name": "LayoutModel",
     "state": {
      "_model_module": "@jupyter-widgets/base",
      "_model_module_version": "1.2.0",
      "_model_name": "LayoutModel",
      "_view_count": null,
      "_view_module": "@jupyter-widgets/base",
      "_view_module_version": "1.2.0",
      "_view_name": "LayoutView",
      "align_content": null,
      "align_items": null,
      "align_self": null,
      "border": null,
      "bottom": null,
      "display": null,
      "flex": null,
      "flex_flow": null,
      "grid_area": null,
      "grid_auto_columns": null,
      "grid_auto_flow": null,
      "grid_auto_rows": null,
      "grid_column": null,
      "grid_gap": null,
      "grid_row": null,
      "grid_template_areas": null,
      "grid_template_columns": null,
      "grid_template_rows": null,
      "height": null,
      "justify_content": null,
      "justify_items": null,
      "left": null,
      "margin": null,
      "max_height": null,
      "max_width": null,
      "min_height": null,
      "min_width": null,
      "object_fit": null,
      "object_position": null,
      "order": null,
      "overflow": null,
      "overflow_x": null,
      "overflow_y": null,
      "padding": null,
      "right": null,
      "top": null,
      "visibility": null,
      "width": null
     }
    }
   }
  }
 },
 "nbformat": 4,
 "nbformat_minor": 1
}
